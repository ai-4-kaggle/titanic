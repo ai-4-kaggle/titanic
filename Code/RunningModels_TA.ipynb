{
 "cells": [
  {
   "cell_type": "code",
   "execution_count": 72,
   "metadata": {},
   "outputs": [],
   "source": [
    "import numpy as np\n",
    "import pandas as pd\n",
    "import seaborn as sns\n",
    "import warnings\n",
    "import os\n",
    "import Directory\n",
    "import transformation\n",
    "import pickle\n",
    "import matplotlib.pyplot as plt\n",
    "%matplotlib inline"
   ]
  },
  {
   "cell_type": "code",
   "execution_count": 73,
   "metadata": {},
   "outputs": [],
   "source": [
    "# Ignore warnings\n",
    "\n",
    "def warn(*args, **kwargs):\n",
    "    pass\n",
    "import warnings\n",
    "warnings.warn = warn"
   ]
  },
  {
   "cell_type": "code",
   "execution_count": 157,
   "metadata": {},
   "outputs": [],
   "source": [
    "###### Imports ######\n",
    "\n",
    "from sklearn.linear_model import LogisticRegression\n",
    "from sklearn.model_selection import train_test_split\n",
    "from sklearn.metrics import classification_report, accuracy_score\n",
    "from sklearn.metrics import confusion_matrix\n",
    "from sklearn.model_selection import cross_val_score\n",
    "from sklearn.model_selection import RandomizedSearchCV\n",
    "from sklearn.model_selection import GridSearchCV\n",
    "from scipy.stats import uniform\n",
    "from sklearn.svm import LinearSVC\n",
    "from sklearn.ensemble import RandomForestClassifier\n",
    "from sklearn.ensemble import ExtraTreesClassifier"
   ]
  },
  {
   "cell_type": "code",
   "execution_count": 158,
   "metadata": {},
   "outputs": [
    {
     "data": {
      "text/plain": [
       "<module 'transformation' from 'C:\\\\Users\\\\tanse\\\\Documents\\\\MyStuff\\\\Temp\\\\Kaggle\\\\titanic\\\\Code\\\\transformation.py'>"
      ]
     },
     "execution_count": 158,
     "metadata": {},
     "output_type": "execute_result"
    }
   ],
   "source": [
    "import importlib\n",
    "importlib.reload(transformation)"
   ]
  },
  {
   "cell_type": "code",
   "execution_count": 159,
   "metadata": {},
   "outputs": [],
   "source": [
    "variables = 'Sex_pclass_cabinexist_isoap_ischild'"
   ]
  },
  {
   "cell_type": "markdown",
   "metadata": {},
   "source": [
    "### Logistic Regression"
   ]
  },
  {
   "cell_type": "code",
   "execution_count": 160,
   "metadata": {},
   "outputs": [],
   "source": [
    "###### Name of output File ######\n",
    "file_name = 'LogisticRegression_' + variables + '.csv'"
   ]
  },
  {
   "cell_type": "code",
   "execution_count": 161,
   "metadata": {},
   "outputs": [],
   "source": [
    "###### Get the data and transform #######\n",
    "\n",
    "titanicTrain = pd.read_csv(os.path.join(Directory.dataPath,'train.csv'))\n",
    "X_test = pd.read_csv(os.path.join(Directory.dataPath,'test.csv'))\n",
    "\n",
    "titanicCleaned = titanicTrain.copy()\n",
    "titanicCleaned = transformation.fillTitanicNa(titanicCleaned,titanicCleaned,True,True)\n",
    "\n",
    "# This is the features data from the training set without the PassengerId\n",
    "X = titanicCleaned.drop(['Survived','PassengerId'],axis=1)\n",
    "\n",
    "# This is the response variable from the training set\n",
    "y = titanicCleaned['Survived']\n",
    "\n",
    "# This is the test data including the PassengerId\n",
    "test = pd.read_csv(os.path.join(Directory.dataPath,'test.csv'))\n",
    "\n",
    "# This is the test data without the PassengerId\n",
    "test2 = test.drop(['PassengerId'],axis=1)"
   ]
  },
  {
   "cell_type": "code",
   "execution_count": 162,
   "metadata": {},
   "outputs": [
    {
     "data": {
      "text/plain": [
       "Index(['CabinExistence', 'IsOAP', 'IsChild', 'male', 'pclass__2', 'pclass__3'], dtype='object')"
      ]
     },
     "execution_count": 162,
     "metadata": {},
     "output_type": "execute_result"
    }
   ],
   "source": [
    "###### Show the columns ######\n",
    "X.columns"
   ]
  },
  {
   "cell_type": "code",
   "execution_count": 163,
   "metadata": {},
   "outputs": [
    {
     "data": {
      "text/html": [
       "<div>\n",
       "<style scoped>\n",
       "    .dataframe tbody tr th:only-of-type {\n",
       "        vertical-align: middle;\n",
       "    }\n",
       "\n",
       "    .dataframe tbody tr th {\n",
       "        vertical-align: top;\n",
       "    }\n",
       "\n",
       "    .dataframe thead th {\n",
       "        text-align: right;\n",
       "    }\n",
       "</style>\n",
       "<table border=\"1\" class=\"dataframe\">\n",
       "  <thead>\n",
       "    <tr style=\"text-align: right;\">\n",
       "      <th></th>\n",
       "      <th>CabinExistence</th>\n",
       "      <th>IsOAP</th>\n",
       "      <th>IsChild</th>\n",
       "      <th>male</th>\n",
       "      <th>pclass__2</th>\n",
       "      <th>pclass__3</th>\n",
       "    </tr>\n",
       "  </thead>\n",
       "  <tbody>\n",
       "    <tr>\n",
       "      <th>0</th>\n",
       "      <td>False</td>\n",
       "      <td>0</td>\n",
       "      <td>0</td>\n",
       "      <td>1</td>\n",
       "      <td>0</td>\n",
       "      <td>1</td>\n",
       "    </tr>\n",
       "    <tr>\n",
       "      <th>1</th>\n",
       "      <td>True</td>\n",
       "      <td>0</td>\n",
       "      <td>0</td>\n",
       "      <td>0</td>\n",
       "      <td>0</td>\n",
       "      <td>0</td>\n",
       "    </tr>\n",
       "    <tr>\n",
       "      <th>2</th>\n",
       "      <td>False</td>\n",
       "      <td>0</td>\n",
       "      <td>0</td>\n",
       "      <td>0</td>\n",
       "      <td>0</td>\n",
       "      <td>1</td>\n",
       "    </tr>\n",
       "    <tr>\n",
       "      <th>3</th>\n",
       "      <td>True</td>\n",
       "      <td>0</td>\n",
       "      <td>0</td>\n",
       "      <td>0</td>\n",
       "      <td>0</td>\n",
       "      <td>0</td>\n",
       "    </tr>\n",
       "    <tr>\n",
       "      <th>4</th>\n",
       "      <td>False</td>\n",
       "      <td>0</td>\n",
       "      <td>0</td>\n",
       "      <td>1</td>\n",
       "      <td>0</td>\n",
       "      <td>1</td>\n",
       "    </tr>\n",
       "    <tr>\n",
       "      <th>...</th>\n",
       "      <td>...</td>\n",
       "      <td>...</td>\n",
       "      <td>...</td>\n",
       "      <td>...</td>\n",
       "      <td>...</td>\n",
       "      <td>...</td>\n",
       "    </tr>\n",
       "    <tr>\n",
       "      <th>886</th>\n",
       "      <td>False</td>\n",
       "      <td>0</td>\n",
       "      <td>0</td>\n",
       "      <td>1</td>\n",
       "      <td>1</td>\n",
       "      <td>0</td>\n",
       "    </tr>\n",
       "    <tr>\n",
       "      <th>887</th>\n",
       "      <td>True</td>\n",
       "      <td>0</td>\n",
       "      <td>0</td>\n",
       "      <td>0</td>\n",
       "      <td>0</td>\n",
       "      <td>0</td>\n",
       "    </tr>\n",
       "    <tr>\n",
       "      <th>888</th>\n",
       "      <td>False</td>\n",
       "      <td>0</td>\n",
       "      <td>0</td>\n",
       "      <td>0</td>\n",
       "      <td>0</td>\n",
       "      <td>1</td>\n",
       "    </tr>\n",
       "    <tr>\n",
       "      <th>889</th>\n",
       "      <td>True</td>\n",
       "      <td>0</td>\n",
       "      <td>0</td>\n",
       "      <td>1</td>\n",
       "      <td>0</td>\n",
       "      <td>0</td>\n",
       "    </tr>\n",
       "    <tr>\n",
       "      <th>890</th>\n",
       "      <td>False</td>\n",
       "      <td>0</td>\n",
       "      <td>0</td>\n",
       "      <td>1</td>\n",
       "      <td>0</td>\n",
       "      <td>1</td>\n",
       "    </tr>\n",
       "  </tbody>\n",
       "</table>\n",
       "<p>891 rows × 6 columns</p>\n",
       "</div>"
      ],
      "text/plain": [
       "     CabinExistence  IsOAP  IsChild  male  pclass__2  pclass__3\n",
       "0             False      0        0     1          0          1\n",
       "1              True      0        0     0          0          0\n",
       "2             False      0        0     0          0          1\n",
       "3              True      0        0     0          0          0\n",
       "4             False      0        0     1          0          1\n",
       "..              ...    ...      ...   ...        ...        ...\n",
       "886           False      0        0     1          1          0\n",
       "887            True      0        0     0          0          0\n",
       "888           False      0        0     0          0          1\n",
       "889            True      0        0     1          0          0\n",
       "890           False      0        0     1          0          1\n",
       "\n",
       "[891 rows x 6 columns]"
      ]
     },
     "execution_count": 163,
     "metadata": {},
     "output_type": "execute_result"
    }
   ],
   "source": [
    "X"
   ]
  },
  {
   "cell_type": "code",
   "execution_count": 164,
   "metadata": {},
   "outputs": [
    {
     "name": "stdout",
     "output_type": "stream",
     "text": [
      "Fitting 10 folds for each of 360 candidates, totalling 3600 fits\n"
     ]
    },
    {
     "name": "stderr",
     "output_type": "stream",
     "text": [
      "[Parallel(n_jobs=4)]: Using backend LokyBackend with 4 concurrent workers.\n",
      "[Parallel(n_jobs=4)]: Done  68 tasks      | elapsed:    2.5s\n",
      "[Parallel(n_jobs=4)]: Done 3600 out of 3600 | elapsed:    9.6s finished\n"
     ]
    },
    {
     "data": {
      "text/plain": [
       "LogisticRegression(C=0.1, solver='liblinear')"
      ]
     },
     "execution_count": 164,
     "metadata": {},
     "output_type": "execute_result"
    }
   ],
   "source": [
    "###### Get best parameters ######\n",
    "\n",
    "# The parameters of the Logistic Regression model which we want to iterate over\n",
    "param_grid = {'penalty':['l2','l1',None], 'solver':['liblinear','newton-cg', 'lbfgs', 'sag', 'saga'],\\\n",
    "              'C':[10000000,1000,500,200,100,20,10,2,1,0.1,0.01,0.001],\\\n",
    "              'fit_intercept':[True,False]}\n",
    "\n",
    "# Utilise GridSearchCV to run Linear Regression where for each set of parameters it will run cross validation 20 times.\n",
    "# n_jobs is the number of parallel jobs\n",
    "lg_search = GridSearchCV(LogisticRegression(), param_grid, cv=10, refit=True, verbose=1,n_jobs=4)\n",
    "lg_search.fit(X,y)\n",
    "lg_search.best_estimator_"
   ]
  },
  {
   "cell_type": "code",
   "execution_count": 165,
   "metadata": {},
   "outputs": [
    {
     "name": "stdout",
     "output_type": "stream",
     "text": [
      "The default classifier accuracy score is 0.7923470661672909\n",
      "The optimised classifier accuracy score is 0.7957802746566791\n"
     ]
    }
   ],
   "source": [
    "###### Compared optimised model with default model ######\n",
    "\n",
    "# Default classifier\n",
    "lg1 = LogisticRegression()\n",
    "\n",
    "# Optimised classifier\n",
    "lg2 = lg_search.best_estimator_\n",
    "\n",
    "# Here we run cross validation for the default model and the optimised model. We run it 200 times\n",
    "# with a randomised train and test set and get the mean accuracy score\n",
    "lg1_scores = cross_val_score(lg1, X, y, cv=10, scoring='accuracy',n_jobs=4)\n",
    "lg2_scores = cross_val_score(lg2, X, y, cv=10, scoring='accuracy',n_jobs=4)\n",
    "print('The default classifier accuracy score is {}'.format(lg1_scores.mean()))\n",
    "print('The optimised classifier accuracy score is {}'.format(lg2_scores.mean()))"
   ]
  },
  {
   "cell_type": "code",
   "execution_count": 166,
   "metadata": {},
   "outputs": [
    {
     "data": {
      "text/html": [
       "<div>\n",
       "<style scoped>\n",
       "    .dataframe tbody tr th:only-of-type {\n",
       "        vertical-align: middle;\n",
       "    }\n",
       "\n",
       "    .dataframe tbody tr th {\n",
       "        vertical-align: top;\n",
       "    }\n",
       "\n",
       "    .dataframe thead th {\n",
       "        text-align: right;\n",
       "    }\n",
       "</style>\n",
       "<table border=\"1\" class=\"dataframe\">\n",
       "  <thead>\n",
       "    <tr style=\"text-align: right;\">\n",
       "      <th></th>\n",
       "      <th>Survived</th>\n",
       "      <th>CabinExistence</th>\n",
       "      <th>IsOAP</th>\n",
       "      <th>IsChild</th>\n",
       "      <th>male</th>\n",
       "      <th>pclass__2</th>\n",
       "      <th>pclass__3</th>\n",
       "    </tr>\n",
       "    <tr>\n",
       "      <th>PassengerId</th>\n",
       "      <th></th>\n",
       "      <th></th>\n",
       "      <th></th>\n",
       "      <th></th>\n",
       "      <th></th>\n",
       "      <th></th>\n",
       "      <th></th>\n",
       "    </tr>\n",
       "  </thead>\n",
       "  <tbody>\n",
       "    <tr>\n",
       "      <th>892</th>\n",
       "      <td>0</td>\n",
       "      <td>False</td>\n",
       "      <td>0</td>\n",
       "      <td>0</td>\n",
       "      <td>1</td>\n",
       "      <td>0</td>\n",
       "      <td>1</td>\n",
       "    </tr>\n",
       "    <tr>\n",
       "      <th>893</th>\n",
       "      <td>0</td>\n",
       "      <td>False</td>\n",
       "      <td>0</td>\n",
       "      <td>0</td>\n",
       "      <td>0</td>\n",
       "      <td>0</td>\n",
       "      <td>1</td>\n",
       "    </tr>\n",
       "    <tr>\n",
       "      <th>894</th>\n",
       "      <td>0</td>\n",
       "      <td>False</td>\n",
       "      <td>1</td>\n",
       "      <td>0</td>\n",
       "      <td>1</td>\n",
       "      <td>1</td>\n",
       "      <td>0</td>\n",
       "    </tr>\n",
       "    <tr>\n",
       "      <th>895</th>\n",
       "      <td>0</td>\n",
       "      <td>False</td>\n",
       "      <td>0</td>\n",
       "      <td>0</td>\n",
       "      <td>1</td>\n",
       "      <td>0</td>\n",
       "      <td>1</td>\n",
       "    </tr>\n",
       "    <tr>\n",
       "      <th>896</th>\n",
       "      <td>0</td>\n",
       "      <td>False</td>\n",
       "      <td>0</td>\n",
       "      <td>0</td>\n",
       "      <td>0</td>\n",
       "      <td>0</td>\n",
       "      <td>1</td>\n",
       "    </tr>\n",
       "  </tbody>\n",
       "</table>\n",
       "</div>"
      ],
      "text/plain": [
       "             Survived  CabinExistence  IsOAP  IsChild  male  pclass__2  \\\n",
       "PassengerId                                                              \n",
       "892                 0           False      0        0     1          0   \n",
       "893                 0           False      0        0     0          0   \n",
       "894                 0           False      1        0     1          1   \n",
       "895                 0           False      0        0     1          0   \n",
       "896                 0           False      0        0     0          0   \n",
       "\n",
       "             pclass__3  \n",
       "PassengerId             \n",
       "892                  1  \n",
       "893                  1  \n",
       "894                  0  \n",
       "895                  1  \n",
       "896                  1  "
      ]
     },
     "execution_count": 166,
     "metadata": {},
     "output_type": "execute_result"
    }
   ],
   "source": [
    "###### Get and Save Predictions ######\n",
    "\n",
    "# This is the features data from the training set without the PassengerId\n",
    "X = titanicCleaned.drop(['Survived','PassengerId'],axis=1)\n",
    "\n",
    "# This is the response variable from the training set\n",
    "y = titanicCleaned['Survived']\n",
    "\n",
    "# This is the test data including the PassengerId\n",
    "test = pd.read_csv(os.path.join(Directory.dataPath,'test.csv'))\n",
    "\n",
    "# This is the test data without the PassengerId\n",
    "test2 = test.drop(['PassengerId'],axis=1)\n",
    "\n",
    "lg2.fit(X,y)\n",
    "\n",
    "titanicTestCleaned = transformation.fillTitanicNa(test,titanicTrain.copy(),True,True)\n",
    "titanicTestCleaned.drop('PassengerId',inplace=True,axis=1)\n",
    "transformation.makeColumnsEqual(titanicTestCleaned,X)\n",
    "\n",
    "# lg2 was already trained, we use it here in the function to do the prediction\n",
    "transformation.PredictAndSave2(test2,titanicTrain.copy(),X,lg2,os.path.join(Directory.outputPath,file_name),test).head()"
   ]
  },
  {
   "cell_type": "markdown",
   "metadata": {},
   "source": [
    "### Linear SVC"
   ]
  },
  {
   "cell_type": "code",
   "execution_count": 167,
   "metadata": {},
   "outputs": [],
   "source": [
    "###### Name of output File ######\n",
    "file_name = 'LSVC_' + variables + '.csv'"
   ]
  },
  {
   "cell_type": "code",
   "execution_count": 168,
   "metadata": {},
   "outputs": [],
   "source": [
    "###### Get the data and transform #######\n",
    "\n",
    "titanicTrain = pd.read_csv(os.path.join(Directory.dataPath,'train.csv'))\n",
    "X_test = pd.read_csv(os.path.join(Directory.dataPath,'test.csv'))\n",
    "\n",
    "titanicCleaned = titanicTrain.copy()\n",
    "titanicCleaned = transformation.fillTitanicNa(titanicCleaned,titanicCleaned,True,True)\n",
    "\n",
    "# This is the features data from the training set without the PassengerId\n",
    "X = titanicCleaned.drop(['Survived','PassengerId'],axis=1)\n",
    "\n",
    "# This is the response variable from the training set\n",
    "y = titanicCleaned['Survived']\n",
    "\n",
    "# This is the test data including the PassengerId\n",
    "test = pd.read_csv(os.path.join(Directory.dataPath,'test.csv'))\n",
    "\n",
    "# This is the test data without the PassengerId\n",
    "test2 = test.drop(['PassengerId'],axis=1)"
   ]
  },
  {
   "cell_type": "code",
   "execution_count": 169,
   "metadata": {},
   "outputs": [
    {
     "data": {
      "text/plain": [
       "Index(['CabinExistence', 'IsOAP', 'IsChild', 'male', 'pclass__2', 'pclass__3'], dtype='object')"
      ]
     },
     "execution_count": 169,
     "metadata": {},
     "output_type": "execute_result"
    }
   ],
   "source": [
    "###### Show the columns ######\n",
    "X.columns"
   ]
  },
  {
   "cell_type": "code",
   "execution_count": 170,
   "metadata": {},
   "outputs": [
    {
     "name": "stdout",
     "output_type": "stream",
     "text": [
      "Fitting 10 folds for each of 54 candidates, totalling 540 fits\n"
     ]
    },
    {
     "name": "stderr",
     "output_type": "stream",
     "text": [
      "[Parallel(n_jobs=1)]: Using backend SequentialBackend with 1 concurrent workers.\n"
     ]
    },
    {
     "name": "stdout",
     "output_type": "stream",
     "text": [
      "LinearSVC(C=0.1, dual=False, penalty='l1')\n"
     ]
    },
    {
     "name": "stderr",
     "output_type": "stream",
     "text": [
      "[Parallel(n_jobs=1)]: Done 540 out of 540 | elapsed:    2.6s finished\n"
     ]
    }
   ],
   "source": [
    "###### Get best parameters ######\n",
    "\n",
    "# The parameters of the Logistic Regression model which we want to iterate over\n",
    "param_grid = {'dual':[True,False], 'C':[0.00001,0.001,0.01,0.1,0.15,1,2,10,20],'penalty':['l2','l1',None]}\n",
    "\n",
    "# Utilise GridSearchCV to run Linear Regression where for each set of parameters it will run cross validation 20 times.\n",
    "# n_jobs is the number of parallel jobs\n",
    "lsvc_search = GridSearchCV(LinearSVC(), param_grid, cv=10, refit=True, verbose=1,n_jobs=1)\n",
    "lsvc_search.fit(X,y)\n",
    "print(lsvc_search.best_estimator_)"
   ]
  },
  {
   "cell_type": "code",
   "execution_count": 171,
   "metadata": {},
   "outputs": [
    {
     "name": "stdout",
     "output_type": "stream",
     "text": [
      "The default classifier accuracy score is 0.7923470661672909\n",
      "The optimised classifier accuracy score is 0.7934706616729089\n"
     ]
    }
   ],
   "source": [
    "###### Compared optimised model with default model ######\n",
    "\n",
    "# Default classifier\n",
    "lg1 = LinearSVC()\n",
    "\n",
    "# Optimised classifier\n",
    "lg2 = lsvc_search.best_estimator_\n",
    "\n",
    "# Here we run cross validation for the default model and the optimised model. We run it 200 times\n",
    "# with a randomised train and test set and get the mean accuracy score\n",
    "lg1_scores = cross_val_score(lg1, X, y, cv=10, scoring='accuracy',n_jobs=4)\n",
    "lg2_scores = cross_val_score(lg2, X, y, cv=10, scoring='accuracy',n_jobs=4)\n",
    "print('The default classifier accuracy score is {}'.format(lg1_scores.mean()))\n",
    "print('The optimised classifier accuracy score is {}'.format(lg2_scores.mean()))"
   ]
  },
  {
   "cell_type": "code",
   "execution_count": 172,
   "metadata": {},
   "outputs": [
    {
     "data": {
      "text/html": [
       "<div>\n",
       "<style scoped>\n",
       "    .dataframe tbody tr th:only-of-type {\n",
       "        vertical-align: middle;\n",
       "    }\n",
       "\n",
       "    .dataframe tbody tr th {\n",
       "        vertical-align: top;\n",
       "    }\n",
       "\n",
       "    .dataframe thead th {\n",
       "        text-align: right;\n",
       "    }\n",
       "</style>\n",
       "<table border=\"1\" class=\"dataframe\">\n",
       "  <thead>\n",
       "    <tr style=\"text-align: right;\">\n",
       "      <th></th>\n",
       "      <th>Survived</th>\n",
       "      <th>CabinExistence</th>\n",
       "      <th>IsOAP</th>\n",
       "      <th>IsChild</th>\n",
       "      <th>male</th>\n",
       "      <th>pclass__2</th>\n",
       "      <th>pclass__3</th>\n",
       "    </tr>\n",
       "    <tr>\n",
       "      <th>PassengerId</th>\n",
       "      <th></th>\n",
       "      <th></th>\n",
       "      <th></th>\n",
       "      <th></th>\n",
       "      <th></th>\n",
       "      <th></th>\n",
       "      <th></th>\n",
       "    </tr>\n",
       "  </thead>\n",
       "  <tbody>\n",
       "    <tr>\n",
       "      <th>892</th>\n",
       "      <td>0</td>\n",
       "      <td>False</td>\n",
       "      <td>0</td>\n",
       "      <td>0</td>\n",
       "      <td>1</td>\n",
       "      <td>0</td>\n",
       "      <td>1</td>\n",
       "    </tr>\n",
       "    <tr>\n",
       "      <th>893</th>\n",
       "      <td>1</td>\n",
       "      <td>False</td>\n",
       "      <td>0</td>\n",
       "      <td>0</td>\n",
       "      <td>0</td>\n",
       "      <td>0</td>\n",
       "      <td>1</td>\n",
       "    </tr>\n",
       "    <tr>\n",
       "      <th>894</th>\n",
       "      <td>0</td>\n",
       "      <td>False</td>\n",
       "      <td>1</td>\n",
       "      <td>0</td>\n",
       "      <td>1</td>\n",
       "      <td>1</td>\n",
       "      <td>0</td>\n",
       "    </tr>\n",
       "    <tr>\n",
       "      <th>895</th>\n",
       "      <td>0</td>\n",
       "      <td>False</td>\n",
       "      <td>0</td>\n",
       "      <td>0</td>\n",
       "      <td>1</td>\n",
       "      <td>0</td>\n",
       "      <td>1</td>\n",
       "    </tr>\n",
       "    <tr>\n",
       "      <th>896</th>\n",
       "      <td>1</td>\n",
       "      <td>False</td>\n",
       "      <td>0</td>\n",
       "      <td>0</td>\n",
       "      <td>0</td>\n",
       "      <td>0</td>\n",
       "      <td>1</td>\n",
       "    </tr>\n",
       "  </tbody>\n",
       "</table>\n",
       "</div>"
      ],
      "text/plain": [
       "             Survived  CabinExistence  IsOAP  IsChild  male  pclass__2  \\\n",
       "PassengerId                                                              \n",
       "892                 0           False      0        0     1          0   \n",
       "893                 1           False      0        0     0          0   \n",
       "894                 0           False      1        0     1          1   \n",
       "895                 0           False      0        0     1          0   \n",
       "896                 1           False      0        0     0          0   \n",
       "\n",
       "             pclass__3  \n",
       "PassengerId             \n",
       "892                  1  \n",
       "893                  1  \n",
       "894                  0  \n",
       "895                  1  \n",
       "896                  1  "
      ]
     },
     "execution_count": 172,
     "metadata": {},
     "output_type": "execute_result"
    }
   ],
   "source": [
    "###### Get and Save Predictions ######\n",
    "\n",
    "# This is the features data from the training set without the PassengerId\n",
    "X = titanicCleaned.drop(['Survived','PassengerId'],axis=1)\n",
    "\n",
    "# This is the response variable from the training set\n",
    "y = titanicCleaned['Survived']\n",
    "\n",
    "# This is the test data including the PassengerId\n",
    "test = pd.read_csv(os.path.join(Directory.dataPath,'test.csv'))\n",
    "\n",
    "# This is the test data without the PassengerId\n",
    "test2 = test.drop(['PassengerId'],axis=1)\n",
    "\n",
    "lg2.fit(X,y)\n",
    "\n",
    "titanicTestCleaned = transformation.fillTitanicNa(test,titanicTrain.copy(),True,True)\n",
    "titanicTestCleaned.drop('PassengerId',inplace=True,axis=1)\n",
    "transformation.makeColumnsEqual(titanicTestCleaned,X)\n",
    "\n",
    "# lg2 was already trained, we use it here in the function to do the prediction\n",
    "transformation.PredictAndSave2(test2,titanicTrain.copy(),X,lg2,os.path.join(Directory.outputPath,file_name),test).head()"
   ]
  },
  {
   "cell_type": "markdown",
   "metadata": {},
   "source": [
    "### Random Forest"
   ]
  },
  {
   "cell_type": "code",
   "execution_count": 173,
   "metadata": {},
   "outputs": [],
   "source": [
    "###### Name of output File ######\n",
    "file_name = 'RF_' + variables + '.csv'"
   ]
  },
  {
   "cell_type": "code",
   "execution_count": 174,
   "metadata": {},
   "outputs": [],
   "source": [
    "###### Get the data and transform #######\n",
    "\n",
    "titanicTrain = pd.read_csv(os.path.join(Directory.dataPath,'train.csv'))\n",
    "X_test = pd.read_csv(os.path.join(Directory.dataPath,'test.csv'))\n",
    "\n",
    "titanicCleaned = titanicTrain.copy()\n",
    "titanicCleaned = transformation.fillTitanicNa(titanicCleaned,titanicCleaned,True,True)\n",
    "\n",
    "# This is the features data from the training set without the PassengerId\n",
    "X = titanicCleaned.drop(['Survived','PassengerId'],axis=1)\n",
    "\n",
    "# This is the response variable from the training set\n",
    "y = titanicCleaned['Survived']\n",
    "\n",
    "# This is the test data including the PassengerId\n",
    "test = pd.read_csv(os.path.join(Directory.dataPath,'test.csv'))\n",
    "\n",
    "# This is the test data without the PassengerId\n",
    "test2 = test.drop(['PassengerId'],axis=1)"
   ]
  },
  {
   "cell_type": "code",
   "execution_count": 175,
   "metadata": {},
   "outputs": [
    {
     "data": {
      "text/plain": [
       "Index(['CabinExistence', 'IsOAP', 'IsChild', 'male', 'pclass__2', 'pclass__3'], dtype='object')"
      ]
     },
     "execution_count": 175,
     "metadata": {},
     "output_type": "execute_result"
    }
   ],
   "source": [
    "###### Show the columns ######\n",
    "X.columns"
   ]
  },
  {
   "cell_type": "code",
   "execution_count": 178,
   "metadata": {},
   "outputs": [
    {
     "name": "stdout",
     "output_type": "stream",
     "text": [
      "Fitting 10 folds for each of 36 candidates, totalling 360 fits\n"
     ]
    },
    {
     "name": "stderr",
     "output_type": "stream",
     "text": [
      "[Parallel(n_jobs=1)]: Using backend SequentialBackend with 1 concurrent workers.\n"
     ]
    },
    {
     "name": "stdout",
     "output_type": "stream",
     "text": [
      "RandomForestClassifier(max_depth=2, n_estimators=20)\n"
     ]
    },
    {
     "name": "stderr",
     "output_type": "stream",
     "text": [
      "[Parallel(n_jobs=1)]: Done 360 out of 360 | elapsed:   26.8s finished\n"
     ]
    }
   ],
   "source": [
    "###### Get best parameters ######\n",
    "\n",
    "# The parameters of the Logistic Regression model which we want to iterate over\n",
    "param_grid = {'n_estimators':range(10,100,10),'max_depth':range(2,10,2)}\n",
    "\n",
    "# Utilise GridSearchCV to run Linear Regression where for each set of parameters it will run cross validation 20 times.\n",
    "# n_jobs is the number of parallel jobs\n",
    "rf_search = GridSearchCV(RandomForestClassifier(), param_grid, cv=10, refit=True, verbose=1,n_jobs=2)\n",
    "rf_search.fit(X,y)\n",
    "print(rf_search.best_estimator_)"
   ]
  },
  {
   "cell_type": "code",
   "execution_count": 179,
   "metadata": {},
   "outputs": [
    {
     "name": "stdout",
     "output_type": "stream",
     "text": [
      "The default classifier accuracy score is 0.7924094881398251\n",
      "The optimised classifier accuracy score is 0.7991510611735331\n"
     ]
    }
   ],
   "source": [
    "###### Compared optimised model with default model ######\n",
    "\n",
    "# Default classifier\n",
    "lg1 = RandomForestClassifier()\n",
    "\n",
    "# Optimised classifier\n",
    "lg2 = rf_search.best_estimator_\n",
    "\n",
    "# Here we run cross validation for the default model and the optimised model. We run it 200 times\n",
    "# with a randomised train and test set and get the mean accuracy score\n",
    "lg1_scores = cross_val_score(lg1, X, y, cv=10, scoring='accuracy',n_jobs=4)\n",
    "lg2_scores = cross_val_score(lg2, X, y, cv=10, scoring='accuracy',n_jobs=4)\n",
    "print('The default classifier accuracy score is {}'.format(lg1_scores.mean()))\n",
    "print('The optimised classifier accuracy score is {}'.format(lg2_scores.mean()))"
   ]
  },
  {
   "cell_type": "code",
   "execution_count": 180,
   "metadata": {},
   "outputs": [
    {
     "data": {
      "text/html": [
       "<div>\n",
       "<style scoped>\n",
       "    .dataframe tbody tr th:only-of-type {\n",
       "        vertical-align: middle;\n",
       "    }\n",
       "\n",
       "    .dataframe tbody tr th {\n",
       "        vertical-align: top;\n",
       "    }\n",
       "\n",
       "    .dataframe thead th {\n",
       "        text-align: right;\n",
       "    }\n",
       "</style>\n",
       "<table border=\"1\" class=\"dataframe\">\n",
       "  <thead>\n",
       "    <tr style=\"text-align: right;\">\n",
       "      <th></th>\n",
       "      <th>Survived</th>\n",
       "      <th>CabinExistence</th>\n",
       "      <th>IsOAP</th>\n",
       "      <th>IsChild</th>\n",
       "      <th>male</th>\n",
       "      <th>pclass__2</th>\n",
       "      <th>pclass__3</th>\n",
       "    </tr>\n",
       "    <tr>\n",
       "      <th>PassengerId</th>\n",
       "      <th></th>\n",
       "      <th></th>\n",
       "      <th></th>\n",
       "      <th></th>\n",
       "      <th></th>\n",
       "      <th></th>\n",
       "      <th></th>\n",
       "    </tr>\n",
       "  </thead>\n",
       "  <tbody>\n",
       "    <tr>\n",
       "      <th>892</th>\n",
       "      <td>0</td>\n",
       "      <td>False</td>\n",
       "      <td>0</td>\n",
       "      <td>0</td>\n",
       "      <td>1</td>\n",
       "      <td>0</td>\n",
       "      <td>1</td>\n",
       "    </tr>\n",
       "    <tr>\n",
       "      <th>893</th>\n",
       "      <td>0</td>\n",
       "      <td>False</td>\n",
       "      <td>0</td>\n",
       "      <td>0</td>\n",
       "      <td>0</td>\n",
       "      <td>0</td>\n",
       "      <td>1</td>\n",
       "    </tr>\n",
       "    <tr>\n",
       "      <th>894</th>\n",
       "      <td>0</td>\n",
       "      <td>False</td>\n",
       "      <td>1</td>\n",
       "      <td>0</td>\n",
       "      <td>1</td>\n",
       "      <td>1</td>\n",
       "      <td>0</td>\n",
       "    </tr>\n",
       "    <tr>\n",
       "      <th>895</th>\n",
       "      <td>0</td>\n",
       "      <td>False</td>\n",
       "      <td>0</td>\n",
       "      <td>0</td>\n",
       "      <td>1</td>\n",
       "      <td>0</td>\n",
       "      <td>1</td>\n",
       "    </tr>\n",
       "    <tr>\n",
       "      <th>896</th>\n",
       "      <td>0</td>\n",
       "      <td>False</td>\n",
       "      <td>0</td>\n",
       "      <td>0</td>\n",
       "      <td>0</td>\n",
       "      <td>0</td>\n",
       "      <td>1</td>\n",
       "    </tr>\n",
       "  </tbody>\n",
       "</table>\n",
       "</div>"
      ],
      "text/plain": [
       "             Survived  CabinExistence  IsOAP  IsChild  male  pclass__2  \\\n",
       "PassengerId                                                              \n",
       "892                 0           False      0        0     1          0   \n",
       "893                 0           False      0        0     0          0   \n",
       "894                 0           False      1        0     1          1   \n",
       "895                 0           False      0        0     1          0   \n",
       "896                 0           False      0        0     0          0   \n",
       "\n",
       "             pclass__3  \n",
       "PassengerId             \n",
       "892                  1  \n",
       "893                  1  \n",
       "894                  0  \n",
       "895                  1  \n",
       "896                  1  "
      ]
     },
     "execution_count": 180,
     "metadata": {},
     "output_type": "execute_result"
    }
   ],
   "source": [
    "###### Get and Save Predictions ######\n",
    "\n",
    "# This is the features data from the training set without the PassengerId\n",
    "X = titanicCleaned.drop(['Survived','PassengerId'],axis=1)\n",
    "\n",
    "# This is the response variable from the training set\n",
    "y = titanicCleaned['Survived']\n",
    "\n",
    "# This is the test data including the PassengerId\n",
    "test = pd.read_csv(os.path.join(Directory.dataPath,'test.csv'))\n",
    "\n",
    "# This is the test data without the PassengerId\n",
    "test2 = test.drop(['PassengerId'],axis=1)\n",
    "\n",
    "lg2.fit(X,y)\n",
    "\n",
    "titanicTestCleaned = transformation.fillTitanicNa(test,titanicTrain.copy(),True,True)\n",
    "titanicTestCleaned.drop('PassengerId',inplace=True,axis=1)\n",
    "transformation.makeColumnsEqual(titanicTestCleaned,X)\n",
    "\n",
    "# lg2 was already trained, we use it here in the function to do the prediction\n",
    "transformation.PredictAndSave2(test2,titanicTrain.copy(),X,lg2,os.path.join(Directory.outputPath,file_name),test).head()"
   ]
  },
  {
   "cell_type": "markdown",
   "metadata": {},
   "source": [
    "### Extra Trees"
   ]
  },
  {
   "cell_type": "code",
   "execution_count": 181,
   "metadata": {},
   "outputs": [],
   "source": [
    "###### Name of output File ######\n",
    "file_name = 'ET_' + variables + '.csv'"
   ]
  },
  {
   "cell_type": "code",
   "execution_count": 182,
   "metadata": {},
   "outputs": [],
   "source": [
    "###### Get the data and transform #######\n",
    "\n",
    "titanicTrain = pd.read_csv(os.path.join(Directory.dataPath,'train.csv'))\n",
    "X_test = pd.read_csv(os.path.join(Directory.dataPath,'test.csv'))\n",
    "\n",
    "titanicCleaned = titanicTrain.copy()\n",
    "titanicCleaned = transformation.fillTitanicNa(titanicCleaned,titanicCleaned,True,True)\n",
    "\n",
    "# This is the features data from the training set without the PassengerId\n",
    "X = titanicCleaned.drop(['Survived','PassengerId'],axis=1)\n",
    "\n",
    "# This is the response variable from the training set\n",
    "y = titanicCleaned['Survived']\n",
    "\n",
    "# This is the test data including the PassengerId\n",
    "test = pd.read_csv(os.path.join(Directory.dataPath,'test.csv'))\n",
    "\n",
    "# This is the test data without the PassengerId\n",
    "test2 = test.drop(['PassengerId'],axis=1)"
   ]
  },
  {
   "cell_type": "code",
   "execution_count": 183,
   "metadata": {},
   "outputs": [
    {
     "data": {
      "text/plain": [
       "Index(['CabinExistence', 'IsOAP', 'IsChild', 'male', 'pclass__2', 'pclass__3'], dtype='object')"
      ]
     },
     "execution_count": 183,
     "metadata": {},
     "output_type": "execute_result"
    }
   ],
   "source": [
    "###### Show the columns ######\n",
    "X.columns"
   ]
  },
  {
   "cell_type": "code",
   "execution_count": 184,
   "metadata": {},
   "outputs": [
    {
     "name": "stdout",
     "output_type": "stream",
     "text": [
      "Fitting 10 folds for each of 80 candidates, totalling 800 fits\n"
     ]
    },
    {
     "name": "stderr",
     "output_type": "stream",
     "text": [
      "[Parallel(n_jobs=2)]: Using backend LokyBackend with 2 concurrent workers.\n",
      "[Parallel(n_jobs=2)]: Done 202 tasks      | elapsed:    4.8s\n"
     ]
    },
    {
     "name": "stdout",
     "output_type": "stream",
     "text": [
      "ExtraTreesClassifier(criterion='entropy', max_depth=2, n_estimators=33)\n"
     ]
    },
    {
     "name": "stderr",
     "output_type": "stream",
     "text": [
      "[Parallel(n_jobs=2)]: Done 800 out of 800 | elapsed:   15.1s finished\n"
     ]
    }
   ],
   "source": [
    "###### Get best parameters ######\n",
    "\n",
    "# The parameters of the Logistic Regression model which we want to iterate over\n",
    "param_grid = {'n_estimators':range(1,40,4), 'criterion':['gini','entropy'],'max_depth':range(2,10,2)}\n",
    "\n",
    "# Utilise GridSearchCV to run Linear Regression where for each set of parameters it will run cross validation 20 times.\n",
    "# n_jobs is the number of parallel jobs\n",
    "et_search = GridSearchCV(ExtraTreesClassifier(), param_grid, cv=10, refit=True, verbose=1,n_jobs=2)\n",
    "et_search.fit(X,y)\n",
    "print(et_search.best_estimator_)"
   ]
  },
  {
   "cell_type": "code",
   "execution_count": 185,
   "metadata": {},
   "outputs": [
    {
     "name": "stdout",
     "output_type": "stream",
     "text": [
      "The default classifier accuracy score is 0.7901622971285892\n",
      "The optimised classifier accuracy score is 0.7935330836454432\n"
     ]
    }
   ],
   "source": [
    "###### Compared optimised model with default model ######\n",
    "\n",
    "# Default classifier\n",
    "lg1 = ExtraTreesClassifier()\n",
    "\n",
    "# Optimised classifier\n",
    "lg2 = et_search.best_estimator_\n",
    "\n",
    "# Here we run cross validation for the default model and the optimised model. We run it 200 times\n",
    "# with a randomised train and test set and get the mean accuracy score\n",
    "lg1_scores = cross_val_score(lg1, X, y, cv=10, scoring='accuracy',n_jobs=4)\n",
    "lg2_scores = cross_val_score(lg2, X, y, cv=10, scoring='accuracy',n_jobs=4)\n",
    "print('The default classifier accuracy score is {}'.format(lg1_scores.mean()))\n",
    "print('The optimised classifier accuracy score is {}'.format(lg2_scores.mean()))"
   ]
  },
  {
   "cell_type": "code",
   "execution_count": 186,
   "metadata": {},
   "outputs": [
    {
     "data": {
      "text/html": [
       "<div>\n",
       "<style scoped>\n",
       "    .dataframe tbody tr th:only-of-type {\n",
       "        vertical-align: middle;\n",
       "    }\n",
       "\n",
       "    .dataframe tbody tr th {\n",
       "        vertical-align: top;\n",
       "    }\n",
       "\n",
       "    .dataframe thead th {\n",
       "        text-align: right;\n",
       "    }\n",
       "</style>\n",
       "<table border=\"1\" class=\"dataframe\">\n",
       "  <thead>\n",
       "    <tr style=\"text-align: right;\">\n",
       "      <th></th>\n",
       "      <th>Survived</th>\n",
       "      <th>CabinExistence</th>\n",
       "      <th>IsOAP</th>\n",
       "      <th>IsChild</th>\n",
       "      <th>male</th>\n",
       "      <th>pclass__2</th>\n",
       "      <th>pclass__3</th>\n",
       "    </tr>\n",
       "    <tr>\n",
       "      <th>PassengerId</th>\n",
       "      <th></th>\n",
       "      <th></th>\n",
       "      <th></th>\n",
       "      <th></th>\n",
       "      <th></th>\n",
       "      <th></th>\n",
       "      <th></th>\n",
       "    </tr>\n",
       "  </thead>\n",
       "  <tbody>\n",
       "    <tr>\n",
       "      <th>892</th>\n",
       "      <td>0</td>\n",
       "      <td>False</td>\n",
       "      <td>0</td>\n",
       "      <td>0</td>\n",
       "      <td>1</td>\n",
       "      <td>0</td>\n",
       "      <td>1</td>\n",
       "    </tr>\n",
       "    <tr>\n",
       "      <th>893</th>\n",
       "      <td>0</td>\n",
       "      <td>False</td>\n",
       "      <td>0</td>\n",
       "      <td>0</td>\n",
       "      <td>0</td>\n",
       "      <td>0</td>\n",
       "      <td>1</td>\n",
       "    </tr>\n",
       "    <tr>\n",
       "      <th>894</th>\n",
       "      <td>0</td>\n",
       "      <td>False</td>\n",
       "      <td>1</td>\n",
       "      <td>0</td>\n",
       "      <td>1</td>\n",
       "      <td>1</td>\n",
       "      <td>0</td>\n",
       "    </tr>\n",
       "    <tr>\n",
       "      <th>895</th>\n",
       "      <td>0</td>\n",
       "      <td>False</td>\n",
       "      <td>0</td>\n",
       "      <td>0</td>\n",
       "      <td>1</td>\n",
       "      <td>0</td>\n",
       "      <td>1</td>\n",
       "    </tr>\n",
       "    <tr>\n",
       "      <th>896</th>\n",
       "      <td>0</td>\n",
       "      <td>False</td>\n",
       "      <td>0</td>\n",
       "      <td>0</td>\n",
       "      <td>0</td>\n",
       "      <td>0</td>\n",
       "      <td>1</td>\n",
       "    </tr>\n",
       "  </tbody>\n",
       "</table>\n",
       "</div>"
      ],
      "text/plain": [
       "             Survived  CabinExistence  IsOAP  IsChild  male  pclass__2  \\\n",
       "PassengerId                                                              \n",
       "892                 0           False      0        0     1          0   \n",
       "893                 0           False      0        0     0          0   \n",
       "894                 0           False      1        0     1          1   \n",
       "895                 0           False      0        0     1          0   \n",
       "896                 0           False      0        0     0          0   \n",
       "\n",
       "             pclass__3  \n",
       "PassengerId             \n",
       "892                  1  \n",
       "893                  1  \n",
       "894                  0  \n",
       "895                  1  \n",
       "896                  1  "
      ]
     },
     "execution_count": 186,
     "metadata": {},
     "output_type": "execute_result"
    }
   ],
   "source": [
    "###### Get and Save Predictions ######\n",
    "\n",
    "# This is the features data from the training set without the PassengerId\n",
    "X = titanicCleaned.drop(['Survived','PassengerId'],axis=1)\n",
    "\n",
    "# This is the response variable from the training set\n",
    "y = titanicCleaned['Survived']\n",
    "\n",
    "# This is the test data including the PassengerId\n",
    "test = pd.read_csv(os.path.join(Directory.dataPath,'test.csv'))\n",
    "\n",
    "# This is the test data without the PassengerId\n",
    "test2 = test.drop(['PassengerId'],axis=1)\n",
    "\n",
    "lg2.fit(X,y)\n",
    "\n",
    "titanicTestCleaned = transformation.fillTitanicNa(test,titanicTrain.copy(),True,True)\n",
    "titanicTestCleaned.drop('PassengerId',inplace=True,axis=1)\n",
    "transformation.makeColumnsEqual(titanicTestCleaned,X)\n",
    "\n",
    "# lg2 was already trained, we use it here in the function to do the prediction\n",
    "transformation.PredictAndSave2(test2,titanicTrain.copy(),X,lg2,os.path.join(Directory.outputPath,file_name),test).head()"
   ]
  },
  {
   "cell_type": "code",
   "execution_count": null,
   "metadata": {},
   "outputs": [],
   "source": []
  }
 ],
 "metadata": {
  "kernelspec": {
   "display_name": "Python 3",
   "language": "python",
   "name": "python3"
  },
  "language_info": {
   "codemirror_mode": {
    "name": "ipython",
    "version": 3
   },
   "file_extension": ".py",
   "mimetype": "text/x-python",
   "name": "python",
   "nbconvert_exporter": "python",
   "pygments_lexer": "ipython3",
   "version": "3.7.3"
  }
 },
 "nbformat": 4,
 "nbformat_minor": 2
}
