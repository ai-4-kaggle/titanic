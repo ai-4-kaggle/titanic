{
 "cells": [
  {
   "cell_type": "code",
   "execution_count": 205,
   "metadata": {},
   "outputs": [],
   "source": [
    "import numpy as np\n",
    "import pandas as pd\n",
    "import seaborn as sns\n",
    "import warnings\n",
    "import os\n",
    "import Directory\n",
    "import transformation\n",
    "import pickle\n",
    "import matplotlib.pyplot as plt\n",
    "%matplotlib inline"
   ]
  },
  {
   "cell_type": "code",
   "execution_count": 206,
   "metadata": {},
   "outputs": [],
   "source": [
    "# Ignore warnings\n",
    "\n",
    "def warn(*args, **kwargs):\n",
    "    pass\n",
    "import warnings\n",
    "warnings.warn = warn"
   ]
  },
  {
   "cell_type": "code",
   "execution_count": 207,
   "metadata": {},
   "outputs": [],
   "source": [
    "###### Imports ######\n",
    "\n",
    "from sklearn.linear_model import LogisticRegression\n",
    "from sklearn.model_selection import train_test_split\n",
    "from sklearn.metrics import classification_report, accuracy_score\n",
    "from sklearn.metrics import confusion_matrix\n",
    "from sklearn.model_selection import cross_val_score\n",
    "from sklearn.model_selection import RandomizedSearchCV\n",
    "from sklearn.model_selection import GridSearchCV\n",
    "from scipy.stats import uniform\n",
    "from sklearn.svm import LinearSVC\n",
    "from sklearn.ensemble import RandomForestClassifier\n",
    "from sklearn.ensemble import ExtraTreesClassifier\n",
    "from xgboost import XGBClassifier"
   ]
  },
  {
   "cell_type": "code",
   "execution_count": 208,
   "metadata": {},
   "outputs": [
    {
     "data": {
      "text/plain": [
       "<module 'transformation' from 'C:\\\\Users\\\\tanse\\\\Documents\\\\MyStuff\\\\Temp\\\\Kaggle\\\\titanic\\\\Code\\\\transformation.py'>"
      ]
     },
     "execution_count": 208,
     "metadata": {},
     "output_type": "execute_result"
    }
   ],
   "source": [
    "import importlib\n",
    "importlib.reload(transformation)"
   ]
  },
  {
   "cell_type": "code",
   "execution_count": 209,
   "metadata": {},
   "outputs": [],
   "source": [
    "variables = 'Sex_pclass_cabinexist_isoap_ischild_age'"
   ]
  },
  {
   "cell_type": "markdown",
   "metadata": {},
   "source": [
    "### Logistic Regression"
   ]
  },
  {
   "cell_type": "code",
   "execution_count": 210,
   "metadata": {},
   "outputs": [],
   "source": [
    "###### Name of output File ######\n",
    "file_name = 'LogisticRegression_' + variables + '.csv'"
   ]
  },
  {
   "cell_type": "code",
   "execution_count": 211,
   "metadata": {},
   "outputs": [],
   "source": [
    "###### Get the data and transform #######\n",
    "\n",
    "titanicTrain = pd.read_csv(os.path.join(Directory.dataPath,'train.csv'))\n",
    "X_test = pd.read_csv(os.path.join(Directory.dataPath,'test.csv'))\n",
    "\n",
    "titanicCleaned = titanicTrain.copy()\n",
    "titanicCleaned = transformation.fillTitanicNa(titanicCleaned,titanicCleaned,True,True)\n",
    "\n",
    "# This is the features data from the training set without the PassengerId\n",
    "X = titanicCleaned.drop(['Survived','PassengerId'],axis=1)\n",
    "\n",
    "# This is the response variable from the training set\n",
    "y = titanicCleaned['Survived']\n",
    "\n",
    "# This is the test data including the PassengerId\n",
    "test = pd.read_csv(os.path.join(Directory.dataPath,'test.csv'))\n",
    "\n",
    "# This is the test data without the PassengerId\n",
    "test2 = test.drop(['PassengerId'],axis=1)"
   ]
  },
  {
   "cell_type": "code",
   "execution_count": 212,
   "metadata": {},
   "outputs": [
    {
     "data": {
      "text/plain": [
       "Index(['AgeCleaned', 'CabinExistence', 'IsOAP', 'IsChild', 'male', 'pclass__2',\n",
       "       'pclass__3'],\n",
       "      dtype='object')"
      ]
     },
     "execution_count": 212,
     "metadata": {},
     "output_type": "execute_result"
    }
   ],
   "source": [
    "###### Show the columns ######\n",
    "X.columns"
   ]
  },
  {
   "cell_type": "code",
   "execution_count": 213,
   "metadata": {},
   "outputs": [
    {
     "data": {
      "text/html": [
       "<div>\n",
       "<style scoped>\n",
       "    .dataframe tbody tr th:only-of-type {\n",
       "        vertical-align: middle;\n",
       "    }\n",
       "\n",
       "    .dataframe tbody tr th {\n",
       "        vertical-align: top;\n",
       "    }\n",
       "\n",
       "    .dataframe thead th {\n",
       "        text-align: right;\n",
       "    }\n",
       "</style>\n",
       "<table border=\"1\" class=\"dataframe\">\n",
       "  <thead>\n",
       "    <tr style=\"text-align: right;\">\n",
       "      <th></th>\n",
       "      <th>AgeCleaned</th>\n",
       "      <th>CabinExistence</th>\n",
       "      <th>IsOAP</th>\n",
       "      <th>IsChild</th>\n",
       "      <th>male</th>\n",
       "      <th>pclass__2</th>\n",
       "      <th>pclass__3</th>\n",
       "    </tr>\n",
       "  </thead>\n",
       "  <tbody>\n",
       "    <tr>\n",
       "      <th>0</th>\n",
       "      <td>22</td>\n",
       "      <td>False</td>\n",
       "      <td>0</td>\n",
       "      <td>0</td>\n",
       "      <td>1</td>\n",
       "      <td>0</td>\n",
       "      <td>1</td>\n",
       "    </tr>\n",
       "    <tr>\n",
       "      <th>1</th>\n",
       "      <td>38</td>\n",
       "      <td>True</td>\n",
       "      <td>0</td>\n",
       "      <td>0</td>\n",
       "      <td>0</td>\n",
       "      <td>0</td>\n",
       "      <td>0</td>\n",
       "    </tr>\n",
       "    <tr>\n",
       "      <th>2</th>\n",
       "      <td>26</td>\n",
       "      <td>False</td>\n",
       "      <td>0</td>\n",
       "      <td>0</td>\n",
       "      <td>0</td>\n",
       "      <td>0</td>\n",
       "      <td>1</td>\n",
       "    </tr>\n",
       "    <tr>\n",
       "      <th>3</th>\n",
       "      <td>35</td>\n",
       "      <td>True</td>\n",
       "      <td>0</td>\n",
       "      <td>0</td>\n",
       "      <td>0</td>\n",
       "      <td>0</td>\n",
       "      <td>0</td>\n",
       "    </tr>\n",
       "    <tr>\n",
       "      <th>4</th>\n",
       "      <td>35</td>\n",
       "      <td>False</td>\n",
       "      <td>0</td>\n",
       "      <td>0</td>\n",
       "      <td>1</td>\n",
       "      <td>0</td>\n",
       "      <td>1</td>\n",
       "    </tr>\n",
       "    <tr>\n",
       "      <th>...</th>\n",
       "      <td>...</td>\n",
       "      <td>...</td>\n",
       "      <td>...</td>\n",
       "      <td>...</td>\n",
       "      <td>...</td>\n",
       "      <td>...</td>\n",
       "      <td>...</td>\n",
       "    </tr>\n",
       "    <tr>\n",
       "      <th>886</th>\n",
       "      <td>27</td>\n",
       "      <td>False</td>\n",
       "      <td>0</td>\n",
       "      <td>0</td>\n",
       "      <td>1</td>\n",
       "      <td>1</td>\n",
       "      <td>0</td>\n",
       "    </tr>\n",
       "    <tr>\n",
       "      <th>887</th>\n",
       "      <td>19</td>\n",
       "      <td>True</td>\n",
       "      <td>0</td>\n",
       "      <td>0</td>\n",
       "      <td>0</td>\n",
       "      <td>0</td>\n",
       "      <td>0</td>\n",
       "    </tr>\n",
       "    <tr>\n",
       "      <th>888</th>\n",
       "      <td>32</td>\n",
       "      <td>False</td>\n",
       "      <td>0</td>\n",
       "      <td>0</td>\n",
       "      <td>0</td>\n",
       "      <td>0</td>\n",
       "      <td>1</td>\n",
       "    </tr>\n",
       "    <tr>\n",
       "      <th>889</th>\n",
       "      <td>26</td>\n",
       "      <td>True</td>\n",
       "      <td>0</td>\n",
       "      <td>0</td>\n",
       "      <td>1</td>\n",
       "      <td>0</td>\n",
       "      <td>0</td>\n",
       "    </tr>\n",
       "    <tr>\n",
       "      <th>890</th>\n",
       "      <td>32</td>\n",
       "      <td>False</td>\n",
       "      <td>0</td>\n",
       "      <td>0</td>\n",
       "      <td>1</td>\n",
       "      <td>0</td>\n",
       "      <td>1</td>\n",
       "    </tr>\n",
       "  </tbody>\n",
       "</table>\n",
       "<p>891 rows × 7 columns</p>\n",
       "</div>"
      ],
      "text/plain": [
       "     AgeCleaned  CabinExistence  IsOAP  IsChild  male  pclass__2  pclass__3\n",
       "0            22           False      0        0     1          0          1\n",
       "1            38            True      0        0     0          0          0\n",
       "2            26           False      0        0     0          0          1\n",
       "3            35            True      0        0     0          0          0\n",
       "4            35           False      0        0     1          0          1\n",
       "..          ...             ...    ...      ...   ...        ...        ...\n",
       "886          27           False      0        0     1          1          0\n",
       "887          19            True      0        0     0          0          0\n",
       "888          32           False      0        0     0          0          1\n",
       "889          26            True      0        0     1          0          0\n",
       "890          32           False      0        0     1          0          1\n",
       "\n",
       "[891 rows x 7 columns]"
      ]
     },
     "execution_count": 213,
     "metadata": {},
     "output_type": "execute_result"
    }
   ],
   "source": [
    "X"
   ]
  },
  {
   "cell_type": "code",
   "execution_count": 214,
   "metadata": {},
   "outputs": [
    {
     "name": "stdout",
     "output_type": "stream",
     "text": [
      "Fitting 10 folds for each of 360 candidates, totalling 3600 fits\n"
     ]
    },
    {
     "name": "stderr",
     "output_type": "stream",
     "text": [
      "[Parallel(n_jobs=4)]: Using backend LokyBackend with 4 concurrent workers.\n",
      "[Parallel(n_jobs=4)]: Done 184 tasks      | elapsed:    0.9s\n",
      "[Parallel(n_jobs=4)]: Done 2584 tasks      | elapsed:   10.4s\n",
      "[Parallel(n_jobs=4)]: Done 3600 out of 3600 | elapsed:   13.5s finished\n"
     ]
    },
    {
     "data": {
      "text/plain": [
       "LogisticRegression(C=1, penalty='l1', solver='liblinear')"
      ]
     },
     "execution_count": 214,
     "metadata": {},
     "output_type": "execute_result"
    }
   ],
   "source": [
    "###### Get best parameters ######\n",
    "\n",
    "# The parameters of the Logistic Regression model which we want to iterate over\n",
    "param_grid = {'penalty':['l2','l1',None], 'solver':['liblinear','newton-cg', 'lbfgs', 'sag', 'saga'],\\\n",
    "              'C':[10000000,1000,500,200,100,20,10,2,1,0.1,0.01,0.001],\\\n",
    "              'fit_intercept':[True,False]}\n",
    "\n",
    "# Utilise GridSearchCV to run Linear Regression where for each set of parameters it will run cross validation 20 times.\n",
    "# n_jobs is the number of parallel jobs\n",
    "lg_search = GridSearchCV(LogisticRegression(), param_grid, cv=10, refit=True, verbose=1,n_jobs=4)\n",
    "lg_search.fit(X,y)\n",
    "lg_search.best_estimator_"
   ]
  },
  {
   "cell_type": "code",
   "execution_count": 215,
   "metadata": {},
   "outputs": [
    {
     "name": "stdout",
     "output_type": "stream",
     "text": [
      "The default classifier accuracy score is 0.7990761548064919\n",
      "The optimised classifier accuracy score is 0.8035705368289637\n"
     ]
    }
   ],
   "source": [
    "###### Compared optimised model with default model ######\n",
    "\n",
    "# Default classifier\n",
    "lg1 = LogisticRegression()\n",
    "\n",
    "# Optimised classifier\n",
    "lg2 = lg_search.best_estimator_\n",
    "\n",
    "# Here we run cross validation for the default model and the optimised model. We run it 200 times\n",
    "# with a randomised train and test set and get the mean accuracy score\n",
    "lg1_scores = cross_val_score(lg1, X, y, cv=10, scoring='accuracy',n_jobs=4)\n",
    "lg2_scores = cross_val_score(lg2, X, y, cv=10, scoring='accuracy',n_jobs=4)\n",
    "print('The default classifier accuracy score is {}'.format(lg1_scores.mean()))\n",
    "print('The optimised classifier accuracy score is {}'.format(lg2_scores.mean()))"
   ]
  },
  {
   "cell_type": "code",
   "execution_count": 216,
   "metadata": {},
   "outputs": [
    {
     "data": {
      "text/html": [
       "<div>\n",
       "<style scoped>\n",
       "    .dataframe tbody tr th:only-of-type {\n",
       "        vertical-align: middle;\n",
       "    }\n",
       "\n",
       "    .dataframe tbody tr th {\n",
       "        vertical-align: top;\n",
       "    }\n",
       "\n",
       "    .dataframe thead th {\n",
       "        text-align: right;\n",
       "    }\n",
       "</style>\n",
       "<table border=\"1\" class=\"dataframe\">\n",
       "  <thead>\n",
       "    <tr style=\"text-align: right;\">\n",
       "      <th></th>\n",
       "      <th>Survived</th>\n",
       "      <th>AgeCleaned</th>\n",
       "      <th>CabinExistence</th>\n",
       "      <th>IsOAP</th>\n",
       "      <th>IsChild</th>\n",
       "      <th>male</th>\n",
       "      <th>pclass__2</th>\n",
       "      <th>pclass__3</th>\n",
       "    </tr>\n",
       "    <tr>\n",
       "      <th>PassengerId</th>\n",
       "      <th></th>\n",
       "      <th></th>\n",
       "      <th></th>\n",
       "      <th></th>\n",
       "      <th></th>\n",
       "      <th></th>\n",
       "      <th></th>\n",
       "      <th></th>\n",
       "    </tr>\n",
       "  </thead>\n",
       "  <tbody>\n",
       "    <tr>\n",
       "      <th>892</th>\n",
       "      <td>0</td>\n",
       "      <td>34</td>\n",
       "      <td>False</td>\n",
       "      <td>0</td>\n",
       "      <td>0</td>\n",
       "      <td>1</td>\n",
       "      <td>0</td>\n",
       "      <td>1</td>\n",
       "    </tr>\n",
       "    <tr>\n",
       "      <th>893</th>\n",
       "      <td>0</td>\n",
       "      <td>47</td>\n",
       "      <td>False</td>\n",
       "      <td>0</td>\n",
       "      <td>0</td>\n",
       "      <td>0</td>\n",
       "      <td>0</td>\n",
       "      <td>1</td>\n",
       "    </tr>\n",
       "    <tr>\n",
       "      <th>894</th>\n",
       "      <td>0</td>\n",
       "      <td>62</td>\n",
       "      <td>False</td>\n",
       "      <td>1</td>\n",
       "      <td>0</td>\n",
       "      <td>1</td>\n",
       "      <td>1</td>\n",
       "      <td>0</td>\n",
       "    </tr>\n",
       "    <tr>\n",
       "      <th>895</th>\n",
       "      <td>0</td>\n",
       "      <td>27</td>\n",
       "      <td>False</td>\n",
       "      <td>0</td>\n",
       "      <td>0</td>\n",
       "      <td>1</td>\n",
       "      <td>0</td>\n",
       "      <td>1</td>\n",
       "    </tr>\n",
       "    <tr>\n",
       "      <th>896</th>\n",
       "      <td>1</td>\n",
       "      <td>22</td>\n",
       "      <td>False</td>\n",
       "      <td>0</td>\n",
       "      <td>0</td>\n",
       "      <td>0</td>\n",
       "      <td>0</td>\n",
       "      <td>1</td>\n",
       "    </tr>\n",
       "  </tbody>\n",
       "</table>\n",
       "</div>"
      ],
      "text/plain": [
       "             Survived  AgeCleaned  CabinExistence  IsOAP  IsChild  male  \\\n",
       "PassengerId                                                               \n",
       "892                 0          34           False      0        0     1   \n",
       "893                 0          47           False      0        0     0   \n",
       "894                 0          62           False      1        0     1   \n",
       "895                 0          27           False      0        0     1   \n",
       "896                 1          22           False      0        0     0   \n",
       "\n",
       "             pclass__2  pclass__3  \n",
       "PassengerId                        \n",
       "892                  0          1  \n",
       "893                  0          1  \n",
       "894                  1          0  \n",
       "895                  0          1  \n",
       "896                  0          1  "
      ]
     },
     "execution_count": 216,
     "metadata": {},
     "output_type": "execute_result"
    }
   ],
   "source": [
    "###### Get and Save Predictions ######\n",
    "\n",
    "# This is the features data from the training set without the PassengerId\n",
    "X = titanicCleaned.drop(['Survived','PassengerId'],axis=1)\n",
    "\n",
    "# This is the response variable from the training set\n",
    "y = titanicCleaned['Survived']\n",
    "\n",
    "# This is the test data including the PassengerId\n",
    "test = pd.read_csv(os.path.join(Directory.dataPath,'test.csv'))\n",
    "\n",
    "# This is the test data without the PassengerId\n",
    "test2 = test.drop(['PassengerId'],axis=1)\n",
    "\n",
    "lg2.fit(X,y)\n",
    "\n",
    "titanicTestCleaned = transformation.fillTitanicNa(test,titanicTrain.copy(),True,True)\n",
    "titanicTestCleaned.drop('PassengerId',inplace=True,axis=1)\n",
    "transformation.makeColumnsEqual(titanicTestCleaned,X)\n",
    "\n",
    "# lg2 was already trained, we use it here in the function to do the prediction\n",
    "transformation.PredictAndSave2(test2,titanicTrain.copy(),X,lg2,os.path.join(Directory.outputPath,file_name),test).head()"
   ]
  },
  {
   "cell_type": "markdown",
   "metadata": {},
   "source": [
    "### Linear SVC"
   ]
  },
  {
   "cell_type": "code",
   "execution_count": 217,
   "metadata": {},
   "outputs": [],
   "source": [
    "###### Name of output File ######\n",
    "file_name = 'LSVC_' + variables + '.csv'"
   ]
  },
  {
   "cell_type": "code",
   "execution_count": 218,
   "metadata": {},
   "outputs": [],
   "source": [
    "###### Get the data and transform #######\n",
    "\n",
    "titanicTrain = pd.read_csv(os.path.join(Directory.dataPath,'train.csv'))\n",
    "X_test = pd.read_csv(os.path.join(Directory.dataPath,'test.csv'))\n",
    "\n",
    "titanicCleaned = titanicTrain.copy()\n",
    "titanicCleaned = transformation.fillTitanicNa(titanicCleaned,titanicCleaned,True,True)\n",
    "\n",
    "# This is the features data from the training set without the PassengerId\n",
    "X = titanicCleaned.drop(['Survived','PassengerId'],axis=1)\n",
    "\n",
    "# This is the response variable from the training set\n",
    "y = titanicCleaned['Survived']\n",
    "\n",
    "# This is the test data including the PassengerId\n",
    "test = pd.read_csv(os.path.join(Directory.dataPath,'test.csv'))\n",
    "\n",
    "# This is the test data without the PassengerId\n",
    "test2 = test.drop(['PassengerId'],axis=1)"
   ]
  },
  {
   "cell_type": "code",
   "execution_count": 219,
   "metadata": {},
   "outputs": [
    {
     "data": {
      "text/plain": [
       "Index(['AgeCleaned', 'CabinExistence', 'IsOAP', 'IsChild', 'male', 'pclass__2',\n",
       "       'pclass__3'],\n",
       "      dtype='object')"
      ]
     },
     "execution_count": 219,
     "metadata": {},
     "output_type": "execute_result"
    }
   ],
   "source": [
    "###### Show the columns ######\n",
    "X.columns"
   ]
  },
  {
   "cell_type": "code",
   "execution_count": 220,
   "metadata": {},
   "outputs": [
    {
     "name": "stdout",
     "output_type": "stream",
     "text": [
      "Fitting 10 folds for each of 54 candidates, totalling 540 fits\n"
     ]
    },
    {
     "name": "stderr",
     "output_type": "stream",
     "text": [
      "[Parallel(n_jobs=1)]: Using backend SequentialBackend with 1 concurrent workers.\n"
     ]
    },
    {
     "name": "stdout",
     "output_type": "stream",
     "text": [
      "LinearSVC(C=0.15, dual=False, penalty='l1')\n"
     ]
    },
    {
     "name": "stderr",
     "output_type": "stream",
     "text": [
      "[Parallel(n_jobs=1)]: Done 540 out of 540 | elapsed:    4.1s finished\n"
     ]
    }
   ],
   "source": [
    "###### Get best parameters ######\n",
    "\n",
    "# The parameters of the Logistic Regression model which we want to iterate over\n",
    "param_grid = {'dual':[True,False], 'C':[0.00001,0.001,0.01,0.1,0.15,1,2,10,20],'penalty':['l2','l1',None]}\n",
    "\n",
    "# Utilise GridSearchCV to run Linear Regression where for each set of parameters it will run cross validation 20 times.\n",
    "# n_jobs is the number of parallel jobs\n",
    "lsvc_search = GridSearchCV(LinearSVC(), param_grid, cv=10, refit=True, verbose=1,n_jobs=1)\n",
    "lsvc_search.fit(X,y)\n",
    "print(lsvc_search.best_estimator_)"
   ]
  },
  {
   "cell_type": "code",
   "execution_count": 221,
   "metadata": {},
   "outputs": [
    {
     "name": "stdout",
     "output_type": "stream",
     "text": [
      "The default classifier accuracy score is 0.7597627965043695\n",
      "The optimised classifier accuracy score is 0.7912359550561799\n"
     ]
    }
   ],
   "source": [
    "###### Compared optimised model with default model ######\n",
    "\n",
    "# Default classifier\n",
    "lg1 = LinearSVC()\n",
    "\n",
    "# Optimised classifier\n",
    "lg2 = lsvc_search.best_estimator_\n",
    "\n",
    "# Here we run cross validation for the default model and the optimised model. We run it 200 times\n",
    "# with a randomised train and test set and get the mean accuracy score\n",
    "lg1_scores = cross_val_score(lg1, X, y, cv=10, scoring='accuracy',n_jobs=4)\n",
    "lg2_scores = cross_val_score(lg2, X, y, cv=10, scoring='accuracy',n_jobs=4)\n",
    "print('The default classifier accuracy score is {}'.format(lg1_scores.mean()))\n",
    "print('The optimised classifier accuracy score is {}'.format(lg2_scores.mean()))"
   ]
  },
  {
   "cell_type": "code",
   "execution_count": 222,
   "metadata": {},
   "outputs": [
    {
     "data": {
      "text/html": [
       "<div>\n",
       "<style scoped>\n",
       "    .dataframe tbody tr th:only-of-type {\n",
       "        vertical-align: middle;\n",
       "    }\n",
       "\n",
       "    .dataframe tbody tr th {\n",
       "        vertical-align: top;\n",
       "    }\n",
       "\n",
       "    .dataframe thead th {\n",
       "        text-align: right;\n",
       "    }\n",
       "</style>\n",
       "<table border=\"1\" class=\"dataframe\">\n",
       "  <thead>\n",
       "    <tr style=\"text-align: right;\">\n",
       "      <th></th>\n",
       "      <th>Survived</th>\n",
       "      <th>AgeCleaned</th>\n",
       "      <th>CabinExistence</th>\n",
       "      <th>IsOAP</th>\n",
       "      <th>IsChild</th>\n",
       "      <th>male</th>\n",
       "      <th>pclass__2</th>\n",
       "      <th>pclass__3</th>\n",
       "    </tr>\n",
       "    <tr>\n",
       "      <th>PassengerId</th>\n",
       "      <th></th>\n",
       "      <th></th>\n",
       "      <th></th>\n",
       "      <th></th>\n",
       "      <th></th>\n",
       "      <th></th>\n",
       "      <th></th>\n",
       "      <th></th>\n",
       "    </tr>\n",
       "  </thead>\n",
       "  <tbody>\n",
       "    <tr>\n",
       "      <th>892</th>\n",
       "      <td>0</td>\n",
       "      <td>34</td>\n",
       "      <td>False</td>\n",
       "      <td>0</td>\n",
       "      <td>0</td>\n",
       "      <td>1</td>\n",
       "      <td>0</td>\n",
       "      <td>1</td>\n",
       "    </tr>\n",
       "    <tr>\n",
       "      <th>893</th>\n",
       "      <td>1</td>\n",
       "      <td>47</td>\n",
       "      <td>False</td>\n",
       "      <td>0</td>\n",
       "      <td>0</td>\n",
       "      <td>0</td>\n",
       "      <td>0</td>\n",
       "      <td>1</td>\n",
       "    </tr>\n",
       "    <tr>\n",
       "      <th>894</th>\n",
       "      <td>0</td>\n",
       "      <td>62</td>\n",
       "      <td>False</td>\n",
       "      <td>1</td>\n",
       "      <td>0</td>\n",
       "      <td>1</td>\n",
       "      <td>1</td>\n",
       "      <td>0</td>\n",
       "    </tr>\n",
       "    <tr>\n",
       "      <th>895</th>\n",
       "      <td>0</td>\n",
       "      <td>27</td>\n",
       "      <td>False</td>\n",
       "      <td>0</td>\n",
       "      <td>0</td>\n",
       "      <td>1</td>\n",
       "      <td>0</td>\n",
       "      <td>1</td>\n",
       "    </tr>\n",
       "    <tr>\n",
       "      <th>896</th>\n",
       "      <td>1</td>\n",
       "      <td>22</td>\n",
       "      <td>False</td>\n",
       "      <td>0</td>\n",
       "      <td>0</td>\n",
       "      <td>0</td>\n",
       "      <td>0</td>\n",
       "      <td>1</td>\n",
       "    </tr>\n",
       "  </tbody>\n",
       "</table>\n",
       "</div>"
      ],
      "text/plain": [
       "             Survived  AgeCleaned  CabinExistence  IsOAP  IsChild  male  \\\n",
       "PassengerId                                                               \n",
       "892                 0          34           False      0        0     1   \n",
       "893                 1          47           False      0        0     0   \n",
       "894                 0          62           False      1        0     1   \n",
       "895                 0          27           False      0        0     1   \n",
       "896                 1          22           False      0        0     0   \n",
       "\n",
       "             pclass__2  pclass__3  \n",
       "PassengerId                        \n",
       "892                  0          1  \n",
       "893                  0          1  \n",
       "894                  1          0  \n",
       "895                  0          1  \n",
       "896                  0          1  "
      ]
     },
     "execution_count": 222,
     "metadata": {},
     "output_type": "execute_result"
    }
   ],
   "source": [
    "###### Get and Save Predictions ######\n",
    "\n",
    "# This is the features data from the training set without the PassengerId\n",
    "X = titanicCleaned.drop(['Survived','PassengerId'],axis=1)\n",
    "\n",
    "# This is the response variable from the training set\n",
    "y = titanicCleaned['Survived']\n",
    "\n",
    "# This is the test data including the PassengerId\n",
    "test = pd.read_csv(os.path.join(Directory.dataPath,'test.csv'))\n",
    "\n",
    "# This is the test data without the PassengerId\n",
    "test2 = test.drop(['PassengerId'],axis=1)\n",
    "\n",
    "lg2.fit(X,y)\n",
    "\n",
    "titanicTestCleaned = transformation.fillTitanicNa(test,titanicTrain.copy(),True,True)\n",
    "titanicTestCleaned.drop('PassengerId',inplace=True,axis=1)\n",
    "transformation.makeColumnsEqual(titanicTestCleaned,X)\n",
    "\n",
    "# lg2 was already trained, we use it here in the function to do the prediction\n",
    "transformation.PredictAndSave2(test2,titanicTrain.copy(),X,lg2,os.path.join(Directory.outputPath,file_name),test).head()"
   ]
  },
  {
   "cell_type": "markdown",
   "metadata": {},
   "source": [
    "### Random Forest"
   ]
  },
  {
   "cell_type": "code",
   "execution_count": 232,
   "metadata": {},
   "outputs": [],
   "source": [
    "###### Name of output File ######\n",
    "file_name = 'RF_' + variables + '.csv'"
   ]
  },
  {
   "cell_type": "code",
   "execution_count": 233,
   "metadata": {},
   "outputs": [],
   "source": [
    "###### Get the data and transform #######\n",
    "\n",
    "titanicTrain = pd.read_csv(os.path.join(Directory.dataPath,'train.csv'))\n",
    "X_test = pd.read_csv(os.path.join(Directory.dataPath,'test.csv'))\n",
    "\n",
    "titanicCleaned = titanicTrain.copy()\n",
    "titanicCleaned = transformation.fillTitanicNa(titanicCleaned,titanicCleaned,True,True)\n",
    "\n",
    "# This is the features data from the training set without the PassengerId\n",
    "X = titanicCleaned.drop(['Survived','PassengerId'],axis=1)\n",
    "\n",
    "# This is the response variable from the training set\n",
    "y = titanicCleaned['Survived']\n",
    "\n",
    "# This is the test data including the PassengerId\n",
    "test = pd.read_csv(os.path.join(Directory.dataPath,'test.csv'))\n",
    "\n",
    "# This is the test data without the PassengerId\n",
    "test2 = test.drop(['PassengerId'],axis=1)"
   ]
  },
  {
   "cell_type": "code",
   "execution_count": 234,
   "metadata": {},
   "outputs": [
    {
     "data": {
      "text/plain": [
       "Index(['AgeCleaned', 'CabinExistence', 'IsOAP', 'IsChild', 'male', 'pclass__2',\n",
       "       'pclass__3'],\n",
       "      dtype='object')"
      ]
     },
     "execution_count": 234,
     "metadata": {},
     "output_type": "execute_result"
    }
   ],
   "source": [
    "###### Show the columns ######\n",
    "X.columns"
   ]
  },
  {
   "cell_type": "code",
   "execution_count": 235,
   "metadata": {},
   "outputs": [
    {
     "name": "stdout",
     "output_type": "stream",
     "text": [
      "Fitting 10 folds for each of 110 candidates, totalling 1100 fits\n"
     ]
    },
    {
     "name": "stderr",
     "output_type": "stream",
     "text": [
      "[Parallel(n_jobs=4)]: Using backend LokyBackend with 4 concurrent workers.\n",
      "[Parallel(n_jobs=4)]: Done 128 tasks      | elapsed:    4.8s\n",
      "[Parallel(n_jobs=4)]: Done 608 tasks      | elapsed:   27.5s\n",
      "[Parallel(n_jobs=4)]: Done 1036 tasks      | elapsed:   50.5s\n",
      "[Parallel(n_jobs=4)]: Done 1093 out of 1100 | elapsed:   55.1s remaining:    0.3s\n"
     ]
    },
    {
     "name": "stdout",
     "output_type": "stream",
     "text": [
      "RandomForestClassifier(criterion='entropy', n_estimators=50)\n"
     ]
    },
    {
     "name": "stderr",
     "output_type": "stream",
     "text": [
      "[Parallel(n_jobs=4)]: Done 1100 out of 1100 | elapsed:   55.5s finished\n"
     ]
    }
   ],
   "source": [
    "###### Get best parameters ######\n",
    "\n",
    "# The parameters of the Logistic Regression model which we want to iterate over\n",
    "param_grid = {'n_estimators':range(10,120,10),'max_depth':list(range(2,10,2))+[None],'criterion':['gini','entropy']}\n",
    "\n",
    "# Utilise GridSearchCV to run Linear Regression where for each set of parameters it will run cross validation 20 times.\n",
    "# n_jobs is the number of parallel jobs\n",
    "rf_search = GridSearchCV(RandomForestClassifier(), param_grid, cv=10, refit=True, verbose=1,n_jobs=4)\n",
    "rf_search.fit(X,y)\n",
    "print(rf_search.best_estimator_)"
   ]
  },
  {
   "cell_type": "code",
   "execution_count": 236,
   "metadata": {},
   "outputs": [
    {
     "name": "stdout",
     "output_type": "stream",
     "text": [
      "The default classifier accuracy score is 0.8126092384519351\n",
      "The optimised classifier accuracy score is 0.8148564294631712\n"
     ]
    }
   ],
   "source": [
    "###### Compared optimised model with default model ######\n",
    "\n",
    "# Default classifier\n",
    "lg1 = RandomForestClassifier()\n",
    "\n",
    "# Optimised classifier\n",
    "lg2 = rf_search.best_estimator_\n",
    "\n",
    "# Here we run cross validation for the default model and the optimised model. We run it 200 times\n",
    "# with a randomised train and test set and get the mean accuracy score\n",
    "lg1_scores = cross_val_score(lg1, X, y, cv=10, scoring='accuracy',n_jobs=4)\n",
    "lg2_scores = cross_val_score(lg2, X, y, cv=10, scoring='accuracy',n_jobs=4)\n",
    "print('The default classifier accuracy score is {}'.format(lg1_scores.mean()))\n",
    "print('The optimised classifier accuracy score is {}'.format(lg2_scores.mean()))"
   ]
  },
  {
   "cell_type": "code",
   "execution_count": 237,
   "metadata": {},
   "outputs": [
    {
     "data": {
      "text/html": [
       "<div>\n",
       "<style scoped>\n",
       "    .dataframe tbody tr th:only-of-type {\n",
       "        vertical-align: middle;\n",
       "    }\n",
       "\n",
       "    .dataframe tbody tr th {\n",
       "        vertical-align: top;\n",
       "    }\n",
       "\n",
       "    .dataframe thead th {\n",
       "        text-align: right;\n",
       "    }\n",
       "</style>\n",
       "<table border=\"1\" class=\"dataframe\">\n",
       "  <thead>\n",
       "    <tr style=\"text-align: right;\">\n",
       "      <th></th>\n",
       "      <th>Survived</th>\n",
       "      <th>AgeCleaned</th>\n",
       "      <th>CabinExistence</th>\n",
       "      <th>IsOAP</th>\n",
       "      <th>IsChild</th>\n",
       "      <th>male</th>\n",
       "      <th>pclass__2</th>\n",
       "      <th>pclass__3</th>\n",
       "    </tr>\n",
       "    <tr>\n",
       "      <th>PassengerId</th>\n",
       "      <th></th>\n",
       "      <th></th>\n",
       "      <th></th>\n",
       "      <th></th>\n",
       "      <th></th>\n",
       "      <th></th>\n",
       "      <th></th>\n",
       "      <th></th>\n",
       "    </tr>\n",
       "  </thead>\n",
       "  <tbody>\n",
       "    <tr>\n",
       "      <th>892</th>\n",
       "      <td>0</td>\n",
       "      <td>34</td>\n",
       "      <td>False</td>\n",
       "      <td>0</td>\n",
       "      <td>0</td>\n",
       "      <td>1</td>\n",
       "      <td>0</td>\n",
       "      <td>1</td>\n",
       "    </tr>\n",
       "    <tr>\n",
       "      <th>893</th>\n",
       "      <td>0</td>\n",
       "      <td>47</td>\n",
       "      <td>False</td>\n",
       "      <td>0</td>\n",
       "      <td>0</td>\n",
       "      <td>0</td>\n",
       "      <td>0</td>\n",
       "      <td>1</td>\n",
       "    </tr>\n",
       "    <tr>\n",
       "      <th>894</th>\n",
       "      <td>1</td>\n",
       "      <td>62</td>\n",
       "      <td>False</td>\n",
       "      <td>1</td>\n",
       "      <td>0</td>\n",
       "      <td>1</td>\n",
       "      <td>1</td>\n",
       "      <td>0</td>\n",
       "    </tr>\n",
       "    <tr>\n",
       "      <th>895</th>\n",
       "      <td>1</td>\n",
       "      <td>27</td>\n",
       "      <td>False</td>\n",
       "      <td>0</td>\n",
       "      <td>0</td>\n",
       "      <td>1</td>\n",
       "      <td>0</td>\n",
       "      <td>1</td>\n",
       "    </tr>\n",
       "    <tr>\n",
       "      <th>896</th>\n",
       "      <td>1</td>\n",
       "      <td>22</td>\n",
       "      <td>False</td>\n",
       "      <td>0</td>\n",
       "      <td>0</td>\n",
       "      <td>0</td>\n",
       "      <td>0</td>\n",
       "      <td>1</td>\n",
       "    </tr>\n",
       "  </tbody>\n",
       "</table>\n",
       "</div>"
      ],
      "text/plain": [
       "             Survived  AgeCleaned  CabinExistence  IsOAP  IsChild  male  \\\n",
       "PassengerId                                                               \n",
       "892                 0          34           False      0        0     1   \n",
       "893                 0          47           False      0        0     0   \n",
       "894                 1          62           False      1        0     1   \n",
       "895                 1          27           False      0        0     1   \n",
       "896                 1          22           False      0        0     0   \n",
       "\n",
       "             pclass__2  pclass__3  \n",
       "PassengerId                        \n",
       "892                  0          1  \n",
       "893                  0          1  \n",
       "894                  1          0  \n",
       "895                  0          1  \n",
       "896                  0          1  "
      ]
     },
     "execution_count": 237,
     "metadata": {},
     "output_type": "execute_result"
    }
   ],
   "source": [
    "###### Get and Save Predictions ######\n",
    "\n",
    "# This is the features data from the training set without the PassengerId\n",
    "X = titanicCleaned.drop(['Survived','PassengerId'],axis=1)\n",
    "\n",
    "# This is the response variable from the training set\n",
    "y = titanicCleaned['Survived']\n",
    "\n",
    "# This is the test data including the PassengerId\n",
    "test = pd.read_csv(os.path.join(Directory.dataPath,'test.csv'))\n",
    "\n",
    "# This is the test data without the PassengerId\n",
    "test2 = test.drop(['PassengerId'],axis=1)\n",
    "\n",
    "lg2.fit(X,y)\n",
    "\n",
    "titanicTestCleaned = transformation.fillTitanicNa(test,titanicTrain.copy(),True,True)\n",
    "titanicTestCleaned.drop('PassengerId',inplace=True,axis=1)\n",
    "transformation.makeColumnsEqual(titanicTestCleaned,X)\n",
    "\n",
    "# lg2 was already trained, we use it here in the function to do the prediction\n",
    "transformation.PredictAndSave2(test2,titanicTrain.copy(),X,lg2,os.path.join(Directory.outputPath,file_name),test).head()"
   ]
  },
  {
   "cell_type": "markdown",
   "metadata": {},
   "source": [
    "### Extra Trees"
   ]
  },
  {
   "cell_type": "code",
   "execution_count": 238,
   "metadata": {},
   "outputs": [],
   "source": [
    "###### Name of output File ######\n",
    "file_name = 'ET_' + variables + '.csv'"
   ]
  },
  {
   "cell_type": "code",
   "execution_count": 239,
   "metadata": {},
   "outputs": [],
   "source": [
    "###### Get the data and transform #######\n",
    "\n",
    "titanicTrain = pd.read_csv(os.path.join(Directory.dataPath,'train.csv'))\n",
    "X_test = pd.read_csv(os.path.join(Directory.dataPath,'test.csv'))\n",
    "\n",
    "titanicCleaned = titanicTrain.copy()\n",
    "titanicCleaned = transformation.fillTitanicNa(titanicCleaned,titanicCleaned,True,True)\n",
    "\n",
    "# This is the features data from the training set without the PassengerId\n",
    "X = titanicCleaned.drop(['Survived','PassengerId'],axis=1)\n",
    "\n",
    "# This is the response variable from the training set\n",
    "y = titanicCleaned['Survived']\n",
    "\n",
    "# This is the test data including the PassengerId\n",
    "test = pd.read_csv(os.path.join(Directory.dataPath,'test.csv'))\n",
    "\n",
    "# This is the test data without the PassengerId\n",
    "test2 = test.drop(['PassengerId'],axis=1)"
   ]
  },
  {
   "cell_type": "code",
   "execution_count": 240,
   "metadata": {},
   "outputs": [
    {
     "data": {
      "text/plain": [
       "Index(['AgeCleaned', 'CabinExistence', 'IsOAP', 'IsChild', 'male', 'pclass__2',\n",
       "       'pclass__3'],\n",
       "      dtype='object')"
      ]
     },
     "execution_count": 240,
     "metadata": {},
     "output_type": "execute_result"
    }
   ],
   "source": [
    "###### Show the columns ######\n",
    "X.columns"
   ]
  },
  {
   "cell_type": "code",
   "execution_count": 243,
   "metadata": {},
   "outputs": [
    {
     "name": "stdout",
     "output_type": "stream",
     "text": [
      "Fitting 10 folds for each of 120 candidates, totalling 1200 fits\n"
     ]
    },
    {
     "name": "stderr",
     "output_type": "stream",
     "text": [
      "[Parallel(n_jobs=4)]: Using backend LokyBackend with 4 concurrent workers.\n",
      "[Parallel(n_jobs=4)]: Done 128 tasks      | elapsed:    3.6s\n",
      "[Parallel(n_jobs=4)]: Done 728 tasks      | elapsed:   24.8s\n",
      "[Parallel(n_jobs=4)]: Done 1193 out of 1200 | elapsed:   43.1s remaining:    0.2s\n"
     ]
    },
    {
     "name": "stdout",
     "output_type": "stream",
     "text": [
      "ExtraTreesClassifier(n_estimators=91)\n"
     ]
    },
    {
     "name": "stderr",
     "output_type": "stream",
     "text": [
      "[Parallel(n_jobs=4)]: Done 1200 out of 1200 | elapsed:   43.4s finished\n"
     ]
    }
   ],
   "source": [
    "###### Get best parameters ######\n",
    "\n",
    "# The parameters of the Logistic Regression model which we want to iterate over\n",
    "param_grid = {'n_estimators':range(1,120,10), 'criterion':['gini','entropy'],'max_depth':list(range(2,10,2))+[None]}\n",
    "\n",
    "# Utilise GridSearchCV to run Linear Regression where for each set of parameters it will run cross validation 20 times.\n",
    "# n_jobs is the number of parallel jobs\n",
    "et_search = GridSearchCV(ExtraTreesClassifier(), param_grid, cv=10, refit=True, verbose=1,n_jobs=4)\n",
    "et_search.fit(X,y)\n",
    "print(et_search.best_estimator_)"
   ]
  },
  {
   "cell_type": "code",
   "execution_count": 244,
   "metadata": {},
   "outputs": [
    {
     "name": "stdout",
     "output_type": "stream",
     "text": [
      "The default classifier accuracy score is 0.8159800249687891\n",
      "The optimised classifier accuracy score is 0.817103620474407\n"
     ]
    }
   ],
   "source": [
    "###### Compared optimised model with default model ######\n",
    "\n",
    "# Default classifier\n",
    "lg1 = ExtraTreesClassifier()\n",
    "\n",
    "# Optimised classifier\n",
    "lg2 = et_search.best_estimator_\n",
    "\n",
    "# Here we run cross validation for the default model and the optimised model. We run it 200 times\n",
    "# with a randomised train and test set and get the mean accuracy score\n",
    "lg1_scores = cross_val_score(lg1, X, y, cv=10, scoring='accuracy',n_jobs=4)\n",
    "lg2_scores = cross_val_score(lg2, X, y, cv=10, scoring='accuracy',n_jobs=4)\n",
    "print('The default classifier accuracy score is {}'.format(lg1_scores.mean()))\n",
    "print('The optimised classifier accuracy score is {}'.format(lg2_scores.mean()))"
   ]
  },
  {
   "cell_type": "code",
   "execution_count": 245,
   "metadata": {},
   "outputs": [
    {
     "data": {
      "text/html": [
       "<div>\n",
       "<style scoped>\n",
       "    .dataframe tbody tr th:only-of-type {\n",
       "        vertical-align: middle;\n",
       "    }\n",
       "\n",
       "    .dataframe tbody tr th {\n",
       "        vertical-align: top;\n",
       "    }\n",
       "\n",
       "    .dataframe thead th {\n",
       "        text-align: right;\n",
       "    }\n",
       "</style>\n",
       "<table border=\"1\" class=\"dataframe\">\n",
       "  <thead>\n",
       "    <tr style=\"text-align: right;\">\n",
       "      <th></th>\n",
       "      <th>Survived</th>\n",
       "      <th>AgeCleaned</th>\n",
       "      <th>CabinExistence</th>\n",
       "      <th>IsOAP</th>\n",
       "      <th>IsChild</th>\n",
       "      <th>male</th>\n",
       "      <th>pclass__2</th>\n",
       "      <th>pclass__3</th>\n",
       "    </tr>\n",
       "    <tr>\n",
       "      <th>PassengerId</th>\n",
       "      <th></th>\n",
       "      <th></th>\n",
       "      <th></th>\n",
       "      <th></th>\n",
       "      <th></th>\n",
       "      <th></th>\n",
       "      <th></th>\n",
       "      <th></th>\n",
       "    </tr>\n",
       "  </thead>\n",
       "  <tbody>\n",
       "    <tr>\n",
       "      <th>892</th>\n",
       "      <td>0</td>\n",
       "      <td>34</td>\n",
       "      <td>False</td>\n",
       "      <td>0</td>\n",
       "      <td>0</td>\n",
       "      <td>1</td>\n",
       "      <td>0</td>\n",
       "      <td>1</td>\n",
       "    </tr>\n",
       "    <tr>\n",
       "      <th>893</th>\n",
       "      <td>0</td>\n",
       "      <td>47</td>\n",
       "      <td>False</td>\n",
       "      <td>0</td>\n",
       "      <td>0</td>\n",
       "      <td>0</td>\n",
       "      <td>0</td>\n",
       "      <td>1</td>\n",
       "    </tr>\n",
       "    <tr>\n",
       "      <th>894</th>\n",
       "      <td>1</td>\n",
       "      <td>62</td>\n",
       "      <td>False</td>\n",
       "      <td>1</td>\n",
       "      <td>0</td>\n",
       "      <td>1</td>\n",
       "      <td>1</td>\n",
       "      <td>0</td>\n",
       "    </tr>\n",
       "    <tr>\n",
       "      <th>895</th>\n",
       "      <td>1</td>\n",
       "      <td>27</td>\n",
       "      <td>False</td>\n",
       "      <td>0</td>\n",
       "      <td>0</td>\n",
       "      <td>1</td>\n",
       "      <td>0</td>\n",
       "      <td>1</td>\n",
       "    </tr>\n",
       "    <tr>\n",
       "      <th>896</th>\n",
       "      <td>1</td>\n",
       "      <td>22</td>\n",
       "      <td>False</td>\n",
       "      <td>0</td>\n",
       "      <td>0</td>\n",
       "      <td>0</td>\n",
       "      <td>0</td>\n",
       "      <td>1</td>\n",
       "    </tr>\n",
       "  </tbody>\n",
       "</table>\n",
       "</div>"
      ],
      "text/plain": [
       "             Survived  AgeCleaned  CabinExistence  IsOAP  IsChild  male  \\\n",
       "PassengerId                                                               \n",
       "892                 0          34           False      0        0     1   \n",
       "893                 0          47           False      0        0     0   \n",
       "894                 1          62           False      1        0     1   \n",
       "895                 1          27           False      0        0     1   \n",
       "896                 1          22           False      0        0     0   \n",
       "\n",
       "             pclass__2  pclass__3  \n",
       "PassengerId                        \n",
       "892                  0          1  \n",
       "893                  0          1  \n",
       "894                  1          0  \n",
       "895                  0          1  \n",
       "896                  0          1  "
      ]
     },
     "execution_count": 245,
     "metadata": {},
     "output_type": "execute_result"
    }
   ],
   "source": [
    "###### Get and Save Predictions ######\n",
    "\n",
    "# This is the features data from the training set without the PassengerId\n",
    "X = titanicCleaned.drop(['Survived','PassengerId'],axis=1)\n",
    "\n",
    "# This is the response variable from the training set\n",
    "y = titanicCleaned['Survived']\n",
    "\n",
    "# This is the test data including the PassengerId\n",
    "test = pd.read_csv(os.path.join(Directory.dataPath,'test.csv'))\n",
    "\n",
    "# This is the test data without the PassengerId\n",
    "test2 = test.drop(['PassengerId'],axis=1)\n",
    "\n",
    "lg2.fit(X,y)\n",
    "\n",
    "titanicTestCleaned = transformation.fillTitanicNa(test,titanicTrain.copy(),True,True)\n",
    "titanicTestCleaned.drop('PassengerId',inplace=True,axis=1)\n",
    "transformation.makeColumnsEqual(titanicTestCleaned,X)\n",
    "\n",
    "# lg2 was already trained, we use it here in the function to do the prediction\n",
    "transformation.PredictAndSave2(test2,titanicTrain.copy(),X,lg2,os.path.join(Directory.outputPath,file_name),test).head()"
   ]
  },
  {
   "cell_type": "markdown",
   "metadata": {},
   "source": [
    "### XGB Classifier"
   ]
  },
  {
   "cell_type": "code",
   "execution_count": 250,
   "metadata": {},
   "outputs": [],
   "source": [
    "###### Name of output File ######\n",
    "file_name = 'XGB_' + variables + '.csv'"
   ]
  },
  {
   "cell_type": "code",
   "execution_count": 251,
   "metadata": {},
   "outputs": [],
   "source": [
    "###### Get the data and transform #######\n",
    "\n",
    "titanicTrain = pd.read_csv(os.path.join(Directory.dataPath,'train.csv'))\n",
    "X_test = pd.read_csv(os.path.join(Directory.dataPath,'test.csv'))\n",
    "\n",
    "titanicCleaned = titanicTrain.copy()\n",
    "titanicCleaned = transformation.fillTitanicNa(titanicCleaned,titanicCleaned,True,True)\n",
    "\n",
    "# This is the features data from the training set without the PassengerId\n",
    "X = titanicCleaned.drop(['Survived','PassengerId'],axis=1)\n",
    "\n",
    "# This is the response variable from the training set\n",
    "y = titanicCleaned['Survived']\n",
    "\n",
    "# This is the test data including the PassengerId\n",
    "test = pd.read_csv(os.path.join(Directory.dataPath,'test.csv'))\n",
    "\n",
    "# This is the test data without the PassengerId\n",
    "test2 = test.drop(['PassengerId'],axis=1)"
   ]
  },
  {
   "cell_type": "code",
   "execution_count": 252,
   "metadata": {},
   "outputs": [
    {
     "data": {
      "text/plain": [
       "Index(['AgeCleaned', 'CabinExistence', 'IsOAP', 'IsChild', 'male', 'pclass__2',\n",
       "       'pclass__3'],\n",
       "      dtype='object')"
      ]
     },
     "execution_count": 252,
     "metadata": {},
     "output_type": "execute_result"
    }
   ],
   "source": [
    "###### Show the columns ######\n",
    "X.columns"
   ]
  },
  {
   "cell_type": "code",
   "execution_count": 254,
   "metadata": {},
   "outputs": [
    {
     "name": "stdout",
     "output_type": "stream",
     "text": [
      "Fitting 10 folds for each of 2880 candidates, totalling 28800 fits\n"
     ]
    },
    {
     "name": "stderr",
     "output_type": "stream",
     "text": [
      "[Parallel(n_jobs=16)]: Using backend LokyBackend with 16 concurrent workers.\n",
      "[Parallel(n_jobs=16)]: Done  18 tasks      | elapsed:    7.5s\n",
      "[Parallel(n_jobs=16)]: Done 168 tasks      | elapsed:    9.2s\n",
      "[Parallel(n_jobs=16)]: Done 667 tasks      | elapsed:   19.1s\n",
      "[Parallel(n_jobs=16)]: Done 1367 tasks      | elapsed:   32.9s\n",
      "[Parallel(n_jobs=16)]: Done 2267 tasks      | elapsed:   51.6s\n",
      "[Parallel(n_jobs=16)]: Done 3367 tasks      | elapsed:  1.2min\n",
      "[Parallel(n_jobs=16)]: Done 4411 tasks      | elapsed:  1.6min\n",
      "[Parallel(n_jobs=16)]: Done 5911 tasks      | elapsed:  2.1min\n",
      "[Parallel(n_jobs=16)]: Done 7611 tasks      | elapsed:  2.7min\n",
      "[Parallel(n_jobs=16)]: Done 9511 tasks      | elapsed:  3.3min\n",
      "[Parallel(n_jobs=16)]: Done 11604 tasks      | elapsed:  4.0min\n",
      "[Parallel(n_jobs=16)]: Done 13904 tasks      | elapsed:  4.7min\n",
      "[Parallel(n_jobs=16)]: Done 16404 tasks      | elapsed:  5.5min\n",
      "[Parallel(n_jobs=16)]: Done 18664 tasks      | elapsed:  6.2min\n",
      "[Parallel(n_jobs=16)]: Done 20114 tasks      | elapsed:  6.7min\n",
      "[Parallel(n_jobs=16)]: Done 23104 tasks      | elapsed:  7.7min\n",
      "[Parallel(n_jobs=16)]: Done 26404 tasks      | elapsed:  8.7min\n"
     ]
    },
    {
     "name": "stdout",
     "output_type": "stream",
     "text": [
      "XGBClassifier(base_score=0.5, booster='gbtree', colsample_bylevel=1,\n",
      "              colsample_bynode=1, colsample_bytree=1, gamma=0.2, gpu_id=-1,\n",
      "              importance_type='gain', interaction_constraints='',\n",
      "              learning_rate=0.25, max_delta_step=0, max_depth=7,\n",
      "              min_child_weight=1, missing=nan, monotone_constraints='()',\n",
      "              n_estimators=41, n_jobs=0, num_parallel_tree=1, random_state=0,\n",
      "              reg_alpha=0, reg_lambda=1, scale_pos_weight=1, subsample=1,\n",
      "              tree_method='exact', validate_parameters=1, verbosity=None)\n"
     ]
    },
    {
     "name": "stderr",
     "output_type": "stream",
     "text": [
      "[Parallel(n_jobs=16)]: Done 28800 out of 28800 | elapsed:  9.5min finished\n"
     ]
    }
   ],
   "source": [
    "###### Get best parameters ######\n",
    "\n",
    "# The parameters of the Logistic Regression model which we want to iterate over\n",
    "param_grid = {'n_estimators':range(1,120,10), 'max_depth':list(range(2,9,1))+[None],\\\n",
    "              'booster':['gbtree'],'gamma': np.arange(0,1,0.2), 'learning_rate': [0.05,0.1,0.15, 0.2,0.25, 0.3]}\n",
    "\n",
    "# Utilise GridSearchCV to run Linear Regression where for each set of parameters it will run cross validation 20 times.\n",
    "# n_jobs is the number of parallel jobs\n",
    "xgb_search = GridSearchCV(XGBClassifier(), param_grid, cv=10, refit=True, verbose=1,n_jobs=16)\n",
    "xgb_search.fit(X,y)\n",
    "print(xgb_search.best_estimator_)"
   ]
  },
  {
   "cell_type": "code",
   "execution_count": 255,
   "metadata": {},
   "outputs": [
    {
     "name": "stdout",
     "output_type": "stream",
     "text": [
      "The default classifier accuracy score is 0.8204744069912608\n",
      "The optimised classifier accuracy score is 0.8328339575530587\n"
     ]
    }
   ],
   "source": [
    "###### Compared optimised model with default model ######\n",
    "\n",
    "# Default classifier\n",
    "lg1 = XGBClassifier()\n",
    "\n",
    "# Optimised classifier\n",
    "lg2 = xgb_search.best_estimator_\n",
    "\n",
    "# Here we run cross validation for the default model and the optimised model. We run it 200 times\n",
    "# with a randomised train and test set and get the mean accuracy score\n",
    "lg1_scores = cross_val_score(lg1, X, y, cv=10, scoring='accuracy',n_jobs=4)\n",
    "lg2_scores = cross_val_score(lg2, X, y, cv=10, scoring='accuracy',n_jobs=4)\n",
    "print('The default classifier accuracy score is {}'.format(lg1_scores.mean()))\n",
    "print('The optimised classifier accuracy score is {}'.format(lg2_scores.mean()))"
   ]
  },
  {
   "cell_type": "code",
   "execution_count": 256,
   "metadata": {},
   "outputs": [
    {
     "data": {
      "text/html": [
       "<div>\n",
       "<style scoped>\n",
       "    .dataframe tbody tr th:only-of-type {\n",
       "        vertical-align: middle;\n",
       "    }\n",
       "\n",
       "    .dataframe tbody tr th {\n",
       "        vertical-align: top;\n",
       "    }\n",
       "\n",
       "    .dataframe thead th {\n",
       "        text-align: right;\n",
       "    }\n",
       "</style>\n",
       "<table border=\"1\" class=\"dataframe\">\n",
       "  <thead>\n",
       "    <tr style=\"text-align: right;\">\n",
       "      <th></th>\n",
       "      <th>Survived</th>\n",
       "      <th>AgeCleaned</th>\n",
       "      <th>CabinExistence</th>\n",
       "      <th>IsOAP</th>\n",
       "      <th>IsChild</th>\n",
       "      <th>male</th>\n",
       "      <th>pclass__2</th>\n",
       "      <th>pclass__3</th>\n",
       "    </tr>\n",
       "    <tr>\n",
       "      <th>PassengerId</th>\n",
       "      <th></th>\n",
       "      <th></th>\n",
       "      <th></th>\n",
       "      <th></th>\n",
       "      <th></th>\n",
       "      <th></th>\n",
       "      <th></th>\n",
       "      <th></th>\n",
       "    </tr>\n",
       "  </thead>\n",
       "  <tbody>\n",
       "    <tr>\n",
       "      <th>892</th>\n",
       "      <td>0</td>\n",
       "      <td>34</td>\n",
       "      <td>False</td>\n",
       "      <td>0</td>\n",
       "      <td>0</td>\n",
       "      <td>1</td>\n",
       "      <td>0</td>\n",
       "      <td>1</td>\n",
       "    </tr>\n",
       "    <tr>\n",
       "      <th>893</th>\n",
       "      <td>0</td>\n",
       "      <td>47</td>\n",
       "      <td>False</td>\n",
       "      <td>0</td>\n",
       "      <td>0</td>\n",
       "      <td>0</td>\n",
       "      <td>0</td>\n",
       "      <td>1</td>\n",
       "    </tr>\n",
       "    <tr>\n",
       "      <th>894</th>\n",
       "      <td>0</td>\n",
       "      <td>62</td>\n",
       "      <td>False</td>\n",
       "      <td>1</td>\n",
       "      <td>0</td>\n",
       "      <td>1</td>\n",
       "      <td>1</td>\n",
       "      <td>0</td>\n",
       "    </tr>\n",
       "    <tr>\n",
       "      <th>895</th>\n",
       "      <td>0</td>\n",
       "      <td>27</td>\n",
       "      <td>False</td>\n",
       "      <td>0</td>\n",
       "      <td>0</td>\n",
       "      <td>1</td>\n",
       "      <td>0</td>\n",
       "      <td>1</td>\n",
       "    </tr>\n",
       "    <tr>\n",
       "      <th>896</th>\n",
       "      <td>1</td>\n",
       "      <td>22</td>\n",
       "      <td>False</td>\n",
       "      <td>0</td>\n",
       "      <td>0</td>\n",
       "      <td>0</td>\n",
       "      <td>0</td>\n",
       "      <td>1</td>\n",
       "    </tr>\n",
       "  </tbody>\n",
       "</table>\n",
       "</div>"
      ],
      "text/plain": [
       "             Survived  AgeCleaned  CabinExistence  IsOAP  IsChild  male  \\\n",
       "PassengerId                                                               \n",
       "892                 0          34           False      0        0     1   \n",
       "893                 0          47           False      0        0     0   \n",
       "894                 0          62           False      1        0     1   \n",
       "895                 0          27           False      0        0     1   \n",
       "896                 1          22           False      0        0     0   \n",
       "\n",
       "             pclass__2  pclass__3  \n",
       "PassengerId                        \n",
       "892                  0          1  \n",
       "893                  0          1  \n",
       "894                  1          0  \n",
       "895                  0          1  \n",
       "896                  0          1  "
      ]
     },
     "execution_count": 256,
     "metadata": {},
     "output_type": "execute_result"
    }
   ],
   "source": [
    "###### Get and Save Predictions ######\n",
    "\n",
    "# This is the features data from the training set without the PassengerId\n",
    "X = titanicCleaned.drop(['Survived','PassengerId'],axis=1)\n",
    "\n",
    "# This is the response variable from the training set\n",
    "y = titanicCleaned['Survived']\n",
    "\n",
    "# This is the test data including the PassengerId\n",
    "test = pd.read_csv(os.path.join(Directory.dataPath,'test.csv'))\n",
    "\n",
    "# This is the test data without the PassengerId\n",
    "test2 = test.drop(['PassengerId'],axis=1)\n",
    "\n",
    "lg2.fit(X,y)\n",
    "\n",
    "titanicTestCleaned = transformation.fillTitanicNa(test,titanicTrain.copy(),True,True)\n",
    "titanicTestCleaned.drop('PassengerId',inplace=True,axis=1)\n",
    "transformation.makeColumnsEqual(titanicTestCleaned,X)\n",
    "\n",
    "# lg2 was already trained, we use it here in the function to do the prediction\n",
    "transformation.PredictAndSave2(test2,titanicTrain.copy(),X,lg2,os.path.join(Directory.outputPath,file_name),test).head()"
   ]
  },
  {
   "cell_type": "code",
   "execution_count": null,
   "metadata": {},
   "outputs": [],
   "source": []
  }
 ],
 "metadata": {
  "kernelspec": {
   "display_name": "Python 3",
   "language": "python",
   "name": "python3"
  },
  "language_info": {
   "codemirror_mode": {
    "name": "ipython",
    "version": 3
   },
   "file_extension": ".py",
   "mimetype": "text/x-python",
   "name": "python",
   "nbconvert_exporter": "python",
   "pygments_lexer": "ipython3",
   "version": "3.7.3"
  }
 },
 "nbformat": 4,
 "nbformat_minor": 2
}
